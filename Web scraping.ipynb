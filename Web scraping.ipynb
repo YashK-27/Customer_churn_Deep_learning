{
 "cells": [
  {
   "cell_type": "code",
   "execution_count": 1,
   "id": "11ca3731",
   "metadata": {},
   "outputs": [],
   "source": [
    "import numpy as np\n",
    "import pandas as pd"
   ]
  },
  {
   "cell_type": "code",
   "execution_count": 2,
   "id": "aecf3e90",
   "metadata": {
    "scrolled": false
   },
   "outputs": [
    {
     "data": {
      "text/html": [
       "<div>\n",
       "<style scoped>\n",
       "    .dataframe tbody tr th:only-of-type {\n",
       "        vertical-align: middle;\n",
       "    }\n",
       "\n",
       "    .dataframe tbody tr th {\n",
       "        vertical-align: top;\n",
       "    }\n",
       "\n",
       "    .dataframe thead th {\n",
       "        text-align: right;\n",
       "    }\n",
       "</style>\n",
       "<table border=\"1\" class=\"dataframe\">\n",
       "  <thead>\n",
       "    <tr style=\"text-align: right;\">\n",
       "      <th></th>\n",
       "      <th>,</th>\n",
       "      <th>COLLEGE NAME</th>\n",
       "      <th>WEBSITE</th>\n",
       "      <th>ADRESS</th>\n",
       "    </tr>\n",
       "  </thead>\n",
       "  <tbody>\n",
       "    <tr>\n",
       "      <th>0</th>\n",
       "      <td>1</td>\n",
       "      <td>Abhinava Bharathi College of Pharmacy, Mandya</td>\n",
       "      <td>NaN</td>\n",
       "      <td>NaN</td>\n",
       "    </tr>\n",
       "    <tr>\n",
       "      <th>1</th>\n",
       "      <td>2</td>\n",
       "      <td>Academy Of Management Studies, Hyderabad</td>\n",
       "      <td>http://www.useams.org/</td>\n",
       "      <td>NaN</td>\n",
       "    </tr>\n",
       "    <tr>\n",
       "      <th>2</th>\n",
       "      <td>3</td>\n",
       "      <td>Academy Of Mass Communication, Lucknow</td>\n",
       "      <td>https://www.amclko.org/</td>\n",
       "      <td>NaN</td>\n",
       "    </tr>\n",
       "    <tr>\n",
       "      <th>3</th>\n",
       "      <td>4</td>\n",
       "      <td>Acharaya Shri Chander College Of Medical Scien...</td>\n",
       "      <td>http://ascomscollege.com/</td>\n",
       "      <td>NaN</td>\n",
       "    </tr>\n",
       "    <tr>\n",
       "      <th>4</th>\n",
       "      <td>5</td>\n",
       "      <td>Acharya Institutes of Science &amp; Management, Ba...</td>\n",
       "      <td>https://www.acharya.ac.in/</td>\n",
       "      <td>NaN</td>\n",
       "    </tr>\n",
       "  </tbody>\n",
       "</table>\n",
       "</div>"
      ],
      "text/plain": [
       "   ,                                       COLLEGE NAME  \\\n",
       "0  1      Abhinava Bharathi College of Pharmacy, Mandya   \n",
       "1  2           Academy Of Management Studies, Hyderabad   \n",
       "2  3             Academy Of Mass Communication, Lucknow   \n",
       "3  4  Acharaya Shri Chander College Of Medical Scien...   \n",
       "4  5  Acharya Institutes of Science & Management, Ba...   \n",
       "\n",
       "                      WEBSITE  ADRESS  \n",
       "0                         NaN     NaN  \n",
       "1      http://www.useams.org/     NaN  \n",
       "2     https://www.amclko.org/     NaN  \n",
       "3   http://ascomscollege.com/     NaN  \n",
       "4  https://www.acharya.ac.in/     NaN  "
      ]
     },
     "execution_count": 2,
     "metadata": {},
     "output_type": "execute_result"
    }
   ],
   "source": [
    "df = pd.read_csv(\"D:/Udemy/ML/Web Scraping Assignment - Web Scraping Assignment.csv\")\n",
    "df.head()"
   ]
  },
  {
   "cell_type": "code",
   "execution_count": 3,
   "id": "6cda322c",
   "metadata": {},
   "outputs": [
    {
     "data": {
      "text/plain": [
       "(500, 4)"
      ]
     },
     "execution_count": 3,
     "metadata": {},
     "output_type": "execute_result"
    }
   ],
   "source": [
    "df.shape"
   ]
  },
  {
   "cell_type": "code",
   "execution_count": 4,
   "id": "90548220",
   "metadata": {},
   "outputs": [
    {
     "data": {
      "text/plain": [
       ",                 0\n",
       "COLLEGE NAME      0\n",
       " WEBSITE         38\n",
       "ADRESS          500\n",
       "dtype: int64"
      ]
     },
     "execution_count": 4,
     "metadata": {},
     "output_type": "execute_result"
    }
   ],
   "source": [
    "df.isnull().sum()"
   ]
  },
  {
   "cell_type": "code",
   "execution_count": 5,
   "id": "01019639",
   "metadata": {
    "scrolled": true
   },
   "outputs": [],
   "source": [
    "df.drop(columns = ['ADRESS', ','], inplace = True)"
   ]
  },
  {
   "cell_type": "code",
   "execution_count": 6,
   "id": "2e8d416b",
   "metadata": {},
   "outputs": [
    {
     "data": {
      "text/html": [
       "<div>\n",
       "<style scoped>\n",
       "    .dataframe tbody tr th:only-of-type {\n",
       "        vertical-align: middle;\n",
       "    }\n",
       "\n",
       "    .dataframe tbody tr th {\n",
       "        vertical-align: top;\n",
       "    }\n",
       "\n",
       "    .dataframe thead th {\n",
       "        text-align: right;\n",
       "    }\n",
       "</style>\n",
       "<table border=\"1\" class=\"dataframe\">\n",
       "  <thead>\n",
       "    <tr style=\"text-align: right;\">\n",
       "      <th></th>\n",
       "      <th>COLLEGE NAME</th>\n",
       "      <th>WEBSITE</th>\n",
       "    </tr>\n",
       "  </thead>\n",
       "  <tbody>\n",
       "    <tr>\n",
       "      <th>0</th>\n",
       "      <td>Abhinava Bharathi College of Pharmacy, Mandya</td>\n",
       "      <td>NaN</td>\n",
       "    </tr>\n",
       "    <tr>\n",
       "      <th>1</th>\n",
       "      <td>Academy Of Management Studies, Hyderabad</td>\n",
       "      <td>http://www.useams.org/</td>\n",
       "    </tr>\n",
       "    <tr>\n",
       "      <th>2</th>\n",
       "      <td>Academy Of Mass Communication, Lucknow</td>\n",
       "      <td>https://www.amclko.org/</td>\n",
       "    </tr>\n",
       "    <tr>\n",
       "      <th>3</th>\n",
       "      <td>Acharaya Shri Chander College Of Medical Scien...</td>\n",
       "      <td>http://ascomscollege.com/</td>\n",
       "    </tr>\n",
       "    <tr>\n",
       "      <th>4</th>\n",
       "      <td>Acharya Institutes of Science &amp; Management, Ba...</td>\n",
       "      <td>https://www.acharya.ac.in/</td>\n",
       "    </tr>\n",
       "    <tr>\n",
       "      <th>5</th>\n",
       "      <td>Acharya Panth Shri GMNS Government College, Ka...</td>\n",
       "      <td>https://pgcollegekawardha.edu.in/</td>\n",
       "    </tr>\n",
       "    <tr>\n",
       "      <th>6</th>\n",
       "      <td>ACME College Of Information Technology ACIT, H...</td>\n",
       "      <td>http://acmecollege.com/</td>\n",
       "    </tr>\n",
       "    <tr>\n",
       "      <th>7</th>\n",
       "      <td>Adarsh College Of Education, Jind</td>\n",
       "      <td>http://www.adarshcollegeedu.co.in/ContactUs.aspx</td>\n",
       "    </tr>\n",
       "    <tr>\n",
       "      <th>8</th>\n",
       "      <td>Adhiyamaan Polytechnic College, Hosur</td>\n",
       "      <td>http://www.adhiyamaanpolytech.in/</td>\n",
       "    </tr>\n",
       "    <tr>\n",
       "      <th>9</th>\n",
       "      <td>Aditya Engineering College</td>\n",
       "      <td>https://www.aec.edu.in/</td>\n",
       "    </tr>\n",
       "  </tbody>\n",
       "</table>\n",
       "</div>"
      ],
      "text/plain": [
       "                                        COLLEGE NAME  \\\n",
       "0      Abhinava Bharathi College of Pharmacy, Mandya   \n",
       "1           Academy Of Management Studies, Hyderabad   \n",
       "2             Academy Of Mass Communication, Lucknow   \n",
       "3  Acharaya Shri Chander College Of Medical Scien...   \n",
       "4  Acharya Institutes of Science & Management, Ba...   \n",
       "5  Acharya Panth Shri GMNS Government College, Ka...   \n",
       "6  ACME College Of Information Technology ACIT, H...   \n",
       "7                  Adarsh College Of Education, Jind   \n",
       "8              Adhiyamaan Polytechnic College, Hosur   \n",
       "9                         Aditya Engineering College   \n",
       "\n",
       "                                            WEBSITE  \n",
       "0                                               NaN  \n",
       "1                            http://www.useams.org/  \n",
       "2                           https://www.amclko.org/  \n",
       "3                         http://ascomscollege.com/  \n",
       "4                        https://www.acharya.ac.in/  \n",
       "5                 https://pgcollegekawardha.edu.in/  \n",
       "6                           http://acmecollege.com/  \n",
       "7  http://www.adarshcollegeedu.co.in/ContactUs.aspx  \n",
       "8                 http://www.adhiyamaanpolytech.in/  \n",
       "9                           https://www.aec.edu.in/  "
      ]
     },
     "execution_count": 6,
     "metadata": {},
     "output_type": "execute_result"
    }
   ],
   "source": [
    "df.head(10)"
   ]
  },
  {
   "cell_type": "code",
   "execution_count": 7,
   "id": "aea14b20",
   "metadata": {},
   "outputs": [
    {
     "data": {
      "text/plain": [
       "COLLEGE NAME    0\n",
       " WEBSITE        0\n",
       "dtype: int64"
      ]
     },
     "execution_count": 7,
     "metadata": {},
     "output_type": "execute_result"
    }
   ],
   "source": [
    "df.dropna(inplace=True)\n",
    "df.isnull().sum()"
   ]
  },
  {
   "cell_type": "code",
   "execution_count": 8,
   "id": "cd769b02",
   "metadata": {},
   "outputs": [
    {
     "data": {
      "text/plain": [
       "(462, 2)"
      ]
     },
     "execution_count": 8,
     "metadata": {},
     "output_type": "execute_result"
    }
   ],
   "source": [
    "df.shape"
   ]
  },
  {
   "cell_type": "code",
   "execution_count": 9,
   "id": "2af17f0a",
   "metadata": {},
   "outputs": [
    {
     "name": "stdout",
     "output_type": "stream",
     "text": [
      "COLLEGE NAME\n",
      " WEBSITE\n"
     ]
    }
   ],
   "source": [
    "for col in df.columns:\n",
    "    print(col)"
   ]
  },
  {
   "cell_type": "code",
   "execution_count": 10,
   "id": "4afa11c9",
   "metadata": {
    "scrolled": true
   },
   "outputs": [
    {
     "data": {
      "text/plain": [
       "1                          http://www.useams.org/\n",
       "2                         https://www.amclko.org/\n",
       "3                       http://ascomscollege.com/\n",
       "4                      https://www.acharya.ac.in/\n",
       "5               https://pgcollegekawardha.edu.in/\n",
       "                          ...                    \n",
       "494                       http://www.manit.ac.in/\n",
       "495                           http://maids.ac.in/\n",
       "496         http://mawlaipresbyteriancollege.org/\n",
       "497    http://www.mawsynramborderareacollege.com/\n",
       "498              http://www.mayailambicollege.in/\n",
       "Name:  WEBSITE, Length: 462, dtype: object"
      ]
     },
     "execution_count": 10,
     "metadata": {},
     "output_type": "execute_result"
    }
   ],
   "source": [
    "df[' WEBSITE']"
   ]
  },
  {
   "cell_type": "code",
   "execution_count": 11,
   "id": "e2f23090",
   "metadata": {},
   "outputs": [],
   "source": [
    "df = df.rename(columns=lambda x: x.strip().replace(\" WEBSITE\", \"WEBSITE\"))"
   ]
  },
  {
   "cell_type": "code",
   "execution_count": 12,
   "id": "c459bf7b",
   "metadata": {},
   "outputs": [
    {
     "name": "stdout",
     "output_type": "stream",
     "text": [
      "Requirement already satisfied: beautifulsoup4 in c:\\users\\yash\\appdata\\local\\programs\\python\\python311\\lib\\site-packages (4.11.2)\n",
      "Requirement already satisfied: soupsieve>1.2 in c:\\users\\yash\\appdata\\local\\programs\\python\\python311\\lib\\site-packages (from beautifulsoup4) (2.4)\n"
     ]
    }
   ],
   "source": [
    "!pip install beautifulsoup4"
   ]
  },
  {
   "cell_type": "code",
   "execution_count": 13,
   "id": "5dbcca88",
   "metadata": {},
   "outputs": [],
   "source": [
    "import requests\n",
    "from bs4 import BeautifulSoup"
   ]
  },
  {
   "cell_type": "code",
   "execution_count": 14,
   "id": "e4f8f265",
   "metadata": {
    "scrolled": true
   },
   "outputs": [
    {
     "name": "stdout",
     "output_type": "stream",
     "text": [
      "<class 'pandas.core.frame.DataFrame'>\n",
      "Int64Index: 462 entries, 1 to 498\n",
      "Data columns (total 2 columns):\n",
      " #   Column        Non-Null Count  Dtype \n",
      "---  ------        --------------  ----- \n",
      " 0   COLLEGE NAME  462 non-null    object\n",
      " 1   WEBSITE       462 non-null    object\n",
      "dtypes: object(2)\n",
      "memory usage: 10.8+ KB\n"
     ]
    }
   ],
   "source": [
    "df.info()"
   ]
  },
  {
   "cell_type": "code",
   "execution_count": 15,
   "id": "18d51bbb",
   "metadata": {},
   "outputs": [
    {
     "data": {
      "text/plain": [
       "(462,)"
      ]
     },
     "execution_count": 15,
     "metadata": {},
     "output_type": "execute_result"
    }
   ],
   "source": [
    "df['WEBSITE'].shape"
   ]
  },
  {
   "cell_type": "code",
   "execution_count": 16,
   "id": "fb1dbd75",
   "metadata": {},
   "outputs": [],
   "source": [
    "import requests\n",
    "import pandas as pd\n",
    "\n",
    "# assume you have a dataframe named 'df' with a column named 'WEBSITE' containing the URLs\n",
    "\n",
    "responses = []\n",
    "for url in df['WEBSITE']:\n",
    "    try:\n",
    "        response = requests.get(url, timeout=10)\n",
    "        responses.append(response)\n",
    "    except requests.exceptions.Timeout:\n",
    "        pass\n",
    "    except requests.exceptions.RequestException as e:\n",
    "        pass\n",
    "    except requests.exceptions.Timeout:\n",
    "        pass\n",
    "    except Exception as e:\n",
    "        pass"
   ]
  },
  {
   "cell_type": "code",
   "execution_count": 18,
   "id": "7fc5f530",
   "metadata": {},
   "outputs": [
    {
     "name": "stdout",
     "output_type": "stream",
     "text": [
      "['2nd Floor, Manzil Chambers,']\n"
     ]
    }
   ],
   "source": [
    "Address = []\n",
    "for response in responses:\n",
    "    soup = BeautifulSoup(response.text, 'html.parser')\n",
    "    address = soup.find_all('span', class_='street-address')\n",
    "    for address in address:\n",
    "        Address.append(address.get_text().strip())\n",
    "        \n",
    "print(Address)"
   ]
  },
  {
   "cell_type": "code",
   "execution_count": 19,
   "id": "3e9cda86",
   "metadata": {},
   "outputs": [
    {
     "ename": "AttributeError",
     "evalue": "'NoneType' object has no attribute 'find'",
     "output_type": "error",
     "traceback": [
      "\u001b[1;31m---------------------------------------------------------------------------\u001b[0m",
      "\u001b[1;31mAttributeError\u001b[0m                            Traceback (most recent call last)",
      "Cell \u001b[1;32mIn[19], line 5\u001b[0m\n\u001b[0;32m      3\u001b[0m soup \u001b[38;5;241m=\u001b[39m BeautifulSoup(response\u001b[38;5;241m.\u001b[39mtext, \u001b[38;5;124m'\u001b[39m\u001b[38;5;124mhtml.parser\u001b[39m\u001b[38;5;124m'\u001b[39m)\n\u001b[0;32m      4\u001b[0m principal \u001b[38;5;241m=\u001b[39m soup\u001b[38;5;241m.\u001b[39mfind(\u001b[38;5;124m'\u001b[39m\u001b[38;5;124msection\u001b[39m\u001b[38;5;124m'\u001b[39m, \u001b[38;5;28mid\u001b[39m\u001b[38;5;241m=\u001b[39m\u001b[38;5;124m'\u001b[39m\u001b[38;5;124mabout\u001b[39m\u001b[38;5;124m'\u001b[39m)\n\u001b[1;32m----> 5\u001b[0m principal_name \u001b[38;5;241m=\u001b[39m \u001b[43mprincipal\u001b[49m\u001b[38;5;241;43m.\u001b[39;49m\u001b[43mfind\u001b[49m(\u001b[38;5;124m'\u001b[39m\u001b[38;5;124mdiv\u001b[39m\u001b[38;5;124m'\u001b[39m, class_\u001b[38;5;241m=\u001b[39m\u001b[38;5;124m'\u001b[39m\u001b[38;5;124mmedia-body\u001b[39m\u001b[38;5;124m'\u001b[39m)\n\u001b[0;32m      6\u001b[0m \u001b[38;5;28;01mfor\u001b[39;00m principal \u001b[38;5;129;01min\u001b[39;00m principal:\n\u001b[0;32m      7\u001b[0m     \u001b[38;5;28;01mif\u001b[39;00m principal \u001b[38;5;129;01mis\u001b[39;00m \u001b[38;5;129;01mnot\u001b[39;00m \u001b[38;5;28;01mNone\u001b[39;00m:\n",
      "\u001b[1;31mAttributeError\u001b[0m: 'NoneType' object has no attribute 'find'"
     ]
    }
   ],
   "source": [
    "Principal=[]\n",
    "for response in responses:\n",
    "    soup = BeautifulSoup(response.text, 'html.parser')\n",
    "    principal = soup.find('section', id='about')\n",
    "    principal_name = principal.find('div', class_='media-body')\n",
    "    for principal in principal:\n",
    "        if principal is not None:\n",
    "            Principal.append(principal_name.get_text().strip())\n",
    "        else:\n",
    "            print(\"\")"
   ]
  },
  {
   "cell_type": "markdown",
   "id": "46ce42e8",
   "metadata": {},
   "source": [
    "# basic scraping techniques"
   ]
  },
  {
   "cell_type": "code",
   "execution_count": 20,
   "id": "ae309062",
   "metadata": {},
   "outputs": [],
   "source": [
    "df1 = []\n",
    "for response in responses:\n",
    "    row = {\n",
    "        'status_code': response.status_code,\n",
    "        'content_type': response.headers['content-type'],\n",
    "        'content_length': len(response.content),\n",
    "        'text': response.text,\n",
    "        'Cookies': response.cookies,\n",
    "        'Header': response.headers\n",
    "    }\n",
    "    df1.append(row)\n",
    "\n",
    "df_responses = pd.DataFrame(df1)\n"
   ]
  },
  {
   "cell_type": "code",
   "execution_count": 21,
   "id": "7ab93e33",
   "metadata": {
    "scrolled": true
   },
   "outputs": [
    {
     "data": {
      "text/html": [
       "<div>\n",
       "<style scoped>\n",
       "    .dataframe tbody tr th:only-of-type {\n",
       "        vertical-align: middle;\n",
       "    }\n",
       "\n",
       "    .dataframe tbody tr th {\n",
       "        vertical-align: top;\n",
       "    }\n",
       "\n",
       "    .dataframe thead th {\n",
       "        text-align: right;\n",
       "    }\n",
       "</style>\n",
       "<table border=\"1\" class=\"dataframe\">\n",
       "  <thead>\n",
       "    <tr style=\"text-align: right;\">\n",
       "      <th></th>\n",
       "      <th>status_code</th>\n",
       "      <th>content_type</th>\n",
       "      <th>content_length</th>\n",
       "      <th>text</th>\n",
       "      <th>Cookies</th>\n",
       "      <th>Header</th>\n",
       "    </tr>\n",
       "  </thead>\n",
       "  <tbody>\n",
       "    <tr>\n",
       "      <th>0</th>\n",
       "      <td>200</td>\n",
       "      <td>text/html</td>\n",
       "      <td>11534</td>\n",
       "      <td>&lt;!DOCTYPE HTML PUBLIC \"-//W3C//DTD XHTML 1.0 S...</td>\n",
       "      <td>[]</td>\n",
       "      <td>[Date, Server, Upgrade, Connection, Last-Modif...</td>\n",
       "    </tr>\n",
       "    <tr>\n",
       "      <th>1</th>\n",
       "      <td>200</td>\n",
       "      <td>text/html; charset=UTF-8</td>\n",
       "      <td>0</td>\n",
       "      <td></td>\n",
       "      <td>[]</td>\n",
       "      <td>[Date, Server, Keep-Alive, Connection, Transfe...</td>\n",
       "    </tr>\n",
       "    <tr>\n",
       "      <th>2</th>\n",
       "      <td>406</td>\n",
       "      <td>text/html; charset=iso-8859-1</td>\n",
       "      <td>226</td>\n",
       "      <td>&lt;head&gt;&lt;title&gt;Not Acceptable!&lt;/title&gt;&lt;/head&gt;&lt;bo...</td>\n",
       "      <td>[]</td>\n",
       "      <td>[Date, Server, Content-Length, Keep-Alive, Con...</td>\n",
       "    </tr>\n",
       "    <tr>\n",
       "      <th>3</th>\n",
       "      <td>200</td>\n",
       "      <td>text/html; charset=UTF-8</td>\n",
       "      <td>93769</td>\n",
       "      <td>&lt;!doctype html&gt;\\n&lt;html lang=\"en\"&gt;\\n   &lt;head&gt;\\n...</td>\n",
       "      <td>[]</td>\n",
       "      <td>[Date, Server, Last-Modified, ETag, Accept-Ran...</td>\n",
       "    </tr>\n",
       "    <tr>\n",
       "      <th>4</th>\n",
       "      <td>200</td>\n",
       "      <td>text/html; charset=utf-8</td>\n",
       "      <td>71800</td>\n",
       "      <td>\\r\\n\\r\\n&lt;!DOCTYPE html&gt;\\r\\n\\r\\n&lt;html xmlns=\"ht...</td>\n",
       "      <td>[]</td>\n",
       "      <td>[Cache-Control, Transfer-Encoding, Content-Typ...</td>\n",
       "    </tr>\n",
       "    <tr>\n",
       "      <th>...</th>\n",
       "      <td>...</td>\n",
       "      <td>...</td>\n",
       "      <td>...</td>\n",
       "      <td>...</td>\n",
       "      <td>...</td>\n",
       "      <td>...</td>\n",
       "    </tr>\n",
       "    <tr>\n",
       "      <th>369</th>\n",
       "      <td>200</td>\n",
       "      <td>text/html</td>\n",
       "      <td>16237</td>\n",
       "      <td>&lt;!doctype html&gt;\\n&lt;html&gt;&lt;!-- InstanceBegin temp...</td>\n",
       "      <td>[]</td>\n",
       "      <td>[Date, Server, Last-Modified, Accept-Ranges, C...</td>\n",
       "    </tr>\n",
       "    <tr>\n",
       "      <th>370</th>\n",
       "      <td>200</td>\n",
       "      <td>text/html; charset=utf-8</td>\n",
       "      <td>170305</td>\n",
       "      <td>&lt;!DOCTYPE html&gt;\\n&lt;html xmlns=\"http://www.w3.or...</td>\n",
       "      <td>[]</td>\n",
       "      <td>[Date, Server, X-Frame-Options, X-Content-Type...</td>\n",
       "    </tr>\n",
       "    <tr>\n",
       "      <th>371</th>\n",
       "      <td>200</td>\n",
       "      <td>text/html; charset=UTF-8</td>\n",
       "      <td>34331</td>\n",
       "      <td>&lt;!DOCTYPE html PUBLIC \"-//W3C//DTD XHTML 1.0 T...</td>\n",
       "      <td>[]</td>\n",
       "      <td>[Date, Server, Keep-Alive, Connection, Transfe...</td>\n",
       "    </tr>\n",
       "    <tr>\n",
       "      <th>372</th>\n",
       "      <td>406</td>\n",
       "      <td>text/html; charset=iso-8859-1</td>\n",
       "      <td>226</td>\n",
       "      <td>&lt;head&gt;&lt;title&gt;Not Acceptable!&lt;/title&gt;&lt;/head&gt;&lt;bo...</td>\n",
       "      <td>[]</td>\n",
       "      <td>[Date, Server, Content-Length, Keep-Alive, Con...</td>\n",
       "    </tr>\n",
       "    <tr>\n",
       "      <th>373</th>\n",
       "      <td>200</td>\n",
       "      <td>text/html; charset=UTF-8</td>\n",
       "      <td>60254</td>\n",
       "      <td>&lt;!DOCTYPE html&gt;\\n&lt;html lang=\"en\"&gt;\\n&lt;head&gt;\\n   ...</td>\n",
       "      <td>[&lt;Cookie XSRF-TOKEN=eyJpdiI6IkR1TjhhY1VNS3NibT...</td>\n",
       "      <td>[Date, Server, X-Powered-By, Cache-Control, Se...</td>\n",
       "    </tr>\n",
       "  </tbody>\n",
       "</table>\n",
       "<p>374 rows × 6 columns</p>\n",
       "</div>"
      ],
      "text/plain": [
       "     status_code                   content_type  content_length  \\\n",
       "0            200                      text/html           11534   \n",
       "1            200       text/html; charset=UTF-8               0   \n",
       "2            406  text/html; charset=iso-8859-1             226   \n",
       "3            200       text/html; charset=UTF-8           93769   \n",
       "4            200       text/html; charset=utf-8           71800   \n",
       "..           ...                            ...             ...   \n",
       "369          200                      text/html           16237   \n",
       "370          200       text/html; charset=utf-8          170305   \n",
       "371          200       text/html; charset=UTF-8           34331   \n",
       "372          406  text/html; charset=iso-8859-1             226   \n",
       "373          200       text/html; charset=UTF-8           60254   \n",
       "\n",
       "                                                  text  \\\n",
       "0    <!DOCTYPE HTML PUBLIC \"-//W3C//DTD XHTML 1.0 S...   \n",
       "1                                                        \n",
       "2    <head><title>Not Acceptable!</title></head><bo...   \n",
       "3    <!doctype html>\\n<html lang=\"en\">\\n   <head>\\n...   \n",
       "4    \\r\\n\\r\\n<!DOCTYPE html>\\r\\n\\r\\n<html xmlns=\"ht...   \n",
       "..                                                 ...   \n",
       "369  <!doctype html>\\n<html><!-- InstanceBegin temp...   \n",
       "370  <!DOCTYPE html>\\n<html xmlns=\"http://www.w3.or...   \n",
       "371  <!DOCTYPE html PUBLIC \"-//W3C//DTD XHTML 1.0 T...   \n",
       "372  <head><title>Not Acceptable!</title></head><bo...   \n",
       "373  <!DOCTYPE html>\\n<html lang=\"en\">\\n<head>\\n   ...   \n",
       "\n",
       "                                               Cookies  \\\n",
       "0                                                   []   \n",
       "1                                                   []   \n",
       "2                                                   []   \n",
       "3                                                   []   \n",
       "4                                                   []   \n",
       "..                                                 ...   \n",
       "369                                                 []   \n",
       "370                                                 []   \n",
       "371                                                 []   \n",
       "372                                                 []   \n",
       "373  [<Cookie XSRF-TOKEN=eyJpdiI6IkR1TjhhY1VNS3NibT...   \n",
       "\n",
       "                                                Header  \n",
       "0    [Date, Server, Upgrade, Connection, Last-Modif...  \n",
       "1    [Date, Server, Keep-Alive, Connection, Transfe...  \n",
       "2    [Date, Server, Content-Length, Keep-Alive, Con...  \n",
       "3    [Date, Server, Last-Modified, ETag, Accept-Ran...  \n",
       "4    [Cache-Control, Transfer-Encoding, Content-Typ...  \n",
       "..                                                 ...  \n",
       "369  [Date, Server, Last-Modified, Accept-Ranges, C...  \n",
       "370  [Date, Server, X-Frame-Options, X-Content-Type...  \n",
       "371  [Date, Server, Keep-Alive, Connection, Transfe...  \n",
       "372  [Date, Server, Content-Length, Keep-Alive, Con...  \n",
       "373  [Date, Server, X-Powered-By, Cache-Control, Se...  \n",
       "\n",
       "[374 rows x 6 columns]"
      ]
     },
     "execution_count": 21,
     "metadata": {},
     "output_type": "execute_result"
    }
   ],
   "source": [
    "df_responses"
   ]
  },
  {
   "cell_type": "code",
   "execution_count": 22,
   "id": "a3db8e56",
   "metadata": {},
   "outputs": [
    {
     "name": "stdout",
     "output_type": "stream",
     "text": [
      "['AMS MBA COLLEGE', 'Not Acceptable!', 'Join Acharya Institute For Best Degree Courses And Top Placements.', '\\r\\n\\t PG College Kawardha | Kawardha College | Govt. PG College Kawardha | Acharya Panth Shri Grindh Muni Naam Saheb Govt. PG College Kawardha  \\r\\n', 'Acme College of Information Technology', 'IIS 8.5 Detailed Error - 403.0 - ModSecurity Action', 'Adhiyamaan Polytechnic College', 'Aditya Engineering College | Autonomous', 'Aditya Engineering College - Autonomous', 'Best Autonomous College in AP - Best Engineering College in AP']\n"
     ]
    }
   ],
   "source": [
    "# there is an appending problem\n",
    "# This is only for displaying title names\n",
    "# def gettitle():\n",
    "Title=[]\n",
    "for response in responses[:10]:\n",
    "    soup = BeautifulSoup(response.text, 'html.parser')\n",
    "    for title in soup.find_all('title'):\n",
    "        Title.append(title.get_text())\n",
    "print(Title)"
   ]
  },
  {
   "cell_type": "code",
   "execution_count": 23,
   "id": "bdd65076",
   "metadata": {
    "scrolled": true
   },
   "outputs": [],
   "source": [
    "# gettitle()"
   ]
  },
  {
   "cell_type": "code",
   "execution_count": 24,
   "id": "7b075a48",
   "metadata": {},
   "outputs": [],
   "source": [
    "links = []\n",
    "for text in df_responses['text'][:10]:\n",
    "    soup = BeautifulSoup(text, 'html.parser')\n",
    "    for link in soup.find_all('a'):\n",
    "        links.append(link.get('href'))\n",
    "# print(links)"
   ]
  },
  {
   "cell_type": "code",
   "execution_count": 25,
   "id": "89c2fd06",
   "metadata": {},
   "outputs": [],
   "source": [
    "# for response in responses:\n",
    "#     Website_data=[]\n",
    "#     row = {\n",
    "#             'Title': pd.DataFrame(Title),\n",
    "#             'Links': pd.DataFrame(links)\n",
    "#         }\n",
    "#     Website_data.append(row)\n",
    "\n",
    "# Website_data = pd.DataFrame(Website_data)"
   ]
  },
  {
   "cell_type": "code",
   "execution_count": 26,
   "id": "4dd9816f",
   "metadata": {},
   "outputs": [],
   "source": [
    "# Website_data"
   ]
  },
  {
   "cell_type": "code",
   "execution_count": null,
   "id": "087a906c",
   "metadata": {},
   "outputs": [],
   "source": []
  }
 ],
 "metadata": {
  "kernelspec": {
   "display_name": "Python 3 (ipykernel)",
   "language": "python",
   "name": "python3"
  },
  "language_info": {
   "codemirror_mode": {
    "name": "ipython",
    "version": 3
   },
   "file_extension": ".py",
   "mimetype": "text/x-python",
   "name": "python",
   "nbconvert_exporter": "python",
   "pygments_lexer": "ipython3",
   "version": "3.11.2"
  }
 },
 "nbformat": 4,
 "nbformat_minor": 5
}
