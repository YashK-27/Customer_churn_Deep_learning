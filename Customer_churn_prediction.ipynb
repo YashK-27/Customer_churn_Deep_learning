{
 "cells": [
  {
   "cell_type": "code",
   "execution_count": 12,
   "id": "cd3c8ba5",
   "metadata": {},
   "outputs": [],
   "source": [
    "import numpy as np\n",
    "import pandas as pd\n",
    "import matplotlib.pyplot as plt\n",
    "%matplotlib inline"
   ]
  },
  {
   "cell_type": "code",
   "execution_count": 13,
   "id": "50b9fc2d",
   "metadata": {},
   "outputs": [
    {
     "data": {
      "text/html": [
       "<div>\n",
       "<style scoped>\n",
       "    .dataframe tbody tr th:only-of-type {\n",
       "        vertical-align: middle;\n",
       "    }\n",
       "\n",
       "    .dataframe tbody tr th {\n",
       "        vertical-align: top;\n",
       "    }\n",
       "\n",
       "    .dataframe thead th {\n",
       "        text-align: right;\n",
       "    }\n",
       "</style>\n",
       "<table border=\"1\" class=\"dataframe\">\n",
       "  <thead>\n",
       "    <tr style=\"text-align: right;\">\n",
       "      <th></th>\n",
       "      <th>customerID</th>\n",
       "      <th>gender</th>\n",
       "      <th>SeniorCitizen</th>\n",
       "      <th>Partner</th>\n",
       "      <th>Dependents</th>\n",
       "      <th>tenure</th>\n",
       "      <th>PhoneService</th>\n",
       "      <th>MultipleLines</th>\n",
       "      <th>InternetService</th>\n",
       "      <th>OnlineSecurity</th>\n",
       "      <th>...</th>\n",
       "      <th>DeviceProtection</th>\n",
       "      <th>TechSupport</th>\n",
       "      <th>StreamingTV</th>\n",
       "      <th>StreamingMovies</th>\n",
       "      <th>Contract</th>\n",
       "      <th>PaperlessBilling</th>\n",
       "      <th>PaymentMethod</th>\n",
       "      <th>MonthlyCharges</th>\n",
       "      <th>TotalCharges</th>\n",
       "      <th>Churn</th>\n",
       "    </tr>\n",
       "  </thead>\n",
       "  <tbody>\n",
       "    <tr>\n",
       "      <th>0</th>\n",
       "      <td>7590-VHVEG</td>\n",
       "      <td>Female</td>\n",
       "      <td>0</td>\n",
       "      <td>Yes</td>\n",
       "      <td>No</td>\n",
       "      <td>1</td>\n",
       "      <td>No</td>\n",
       "      <td>No phone service</td>\n",
       "      <td>DSL</td>\n",
       "      <td>No</td>\n",
       "      <td>...</td>\n",
       "      <td>No</td>\n",
       "      <td>No</td>\n",
       "      <td>No</td>\n",
       "      <td>No</td>\n",
       "      <td>Month-to-month</td>\n",
       "      <td>Yes</td>\n",
       "      <td>Electronic check</td>\n",
       "      <td>29.85</td>\n",
       "      <td>29.85</td>\n",
       "      <td>No</td>\n",
       "    </tr>\n",
       "    <tr>\n",
       "      <th>1</th>\n",
       "      <td>5575-GNVDE</td>\n",
       "      <td>Male</td>\n",
       "      <td>0</td>\n",
       "      <td>No</td>\n",
       "      <td>No</td>\n",
       "      <td>34</td>\n",
       "      <td>Yes</td>\n",
       "      <td>No</td>\n",
       "      <td>DSL</td>\n",
       "      <td>Yes</td>\n",
       "      <td>...</td>\n",
       "      <td>Yes</td>\n",
       "      <td>No</td>\n",
       "      <td>No</td>\n",
       "      <td>No</td>\n",
       "      <td>One year</td>\n",
       "      <td>No</td>\n",
       "      <td>Mailed check</td>\n",
       "      <td>56.95</td>\n",
       "      <td>1889.5</td>\n",
       "      <td>No</td>\n",
       "    </tr>\n",
       "    <tr>\n",
       "      <th>2</th>\n",
       "      <td>3668-QPYBK</td>\n",
       "      <td>Male</td>\n",
       "      <td>0</td>\n",
       "      <td>No</td>\n",
       "      <td>No</td>\n",
       "      <td>2</td>\n",
       "      <td>Yes</td>\n",
       "      <td>No</td>\n",
       "      <td>DSL</td>\n",
       "      <td>Yes</td>\n",
       "      <td>...</td>\n",
       "      <td>No</td>\n",
       "      <td>No</td>\n",
       "      <td>No</td>\n",
       "      <td>No</td>\n",
       "      <td>Month-to-month</td>\n",
       "      <td>Yes</td>\n",
       "      <td>Mailed check</td>\n",
       "      <td>53.85</td>\n",
       "      <td>108.15</td>\n",
       "      <td>Yes</td>\n",
       "    </tr>\n",
       "    <tr>\n",
       "      <th>3</th>\n",
       "      <td>7795-CFOCW</td>\n",
       "      <td>Male</td>\n",
       "      <td>0</td>\n",
       "      <td>No</td>\n",
       "      <td>No</td>\n",
       "      <td>45</td>\n",
       "      <td>No</td>\n",
       "      <td>No phone service</td>\n",
       "      <td>DSL</td>\n",
       "      <td>Yes</td>\n",
       "      <td>...</td>\n",
       "      <td>Yes</td>\n",
       "      <td>Yes</td>\n",
       "      <td>No</td>\n",
       "      <td>No</td>\n",
       "      <td>One year</td>\n",
       "      <td>No</td>\n",
       "      <td>Bank transfer (automatic)</td>\n",
       "      <td>42.30</td>\n",
       "      <td>1840.75</td>\n",
       "      <td>No</td>\n",
       "    </tr>\n",
       "    <tr>\n",
       "      <th>4</th>\n",
       "      <td>9237-HQITU</td>\n",
       "      <td>Female</td>\n",
       "      <td>0</td>\n",
       "      <td>No</td>\n",
       "      <td>No</td>\n",
       "      <td>2</td>\n",
       "      <td>Yes</td>\n",
       "      <td>No</td>\n",
       "      <td>Fiber optic</td>\n",
       "      <td>No</td>\n",
       "      <td>...</td>\n",
       "      <td>No</td>\n",
       "      <td>No</td>\n",
       "      <td>No</td>\n",
       "      <td>No</td>\n",
       "      <td>Month-to-month</td>\n",
       "      <td>Yes</td>\n",
       "      <td>Electronic check</td>\n",
       "      <td>70.70</td>\n",
       "      <td>151.65</td>\n",
       "      <td>Yes</td>\n",
       "    </tr>\n",
       "  </tbody>\n",
       "</table>\n",
       "<p>5 rows × 21 columns</p>\n",
       "</div>"
      ],
      "text/plain": [
       "   customerID  gender  SeniorCitizen Partner Dependents  tenure PhoneService   \n",
       "0  7590-VHVEG  Female              0     Yes         No       1           No  \\\n",
       "1  5575-GNVDE    Male              0      No         No      34          Yes   \n",
       "2  3668-QPYBK    Male              0      No         No       2          Yes   \n",
       "3  7795-CFOCW    Male              0      No         No      45           No   \n",
       "4  9237-HQITU  Female              0      No         No       2          Yes   \n",
       "\n",
       "      MultipleLines InternetService OnlineSecurity  ... DeviceProtection   \n",
       "0  No phone service             DSL             No  ...               No  \\\n",
       "1                No             DSL            Yes  ...              Yes   \n",
       "2                No             DSL            Yes  ...               No   \n",
       "3  No phone service             DSL            Yes  ...              Yes   \n",
       "4                No     Fiber optic             No  ...               No   \n",
       "\n",
       "  TechSupport StreamingTV StreamingMovies        Contract PaperlessBilling   \n",
       "0          No          No              No  Month-to-month              Yes  \\\n",
       "1          No          No              No        One year               No   \n",
       "2          No          No              No  Month-to-month              Yes   \n",
       "3         Yes          No              No        One year               No   \n",
       "4          No          No              No  Month-to-month              Yes   \n",
       "\n",
       "               PaymentMethod MonthlyCharges  TotalCharges Churn  \n",
       "0           Electronic check          29.85         29.85    No  \n",
       "1               Mailed check          56.95        1889.5    No  \n",
       "2               Mailed check          53.85        108.15   Yes  \n",
       "3  Bank transfer (automatic)          42.30       1840.75    No  \n",
       "4           Electronic check          70.70        151.65   Yes  \n",
       "\n",
       "[5 rows x 21 columns]"
      ]
     },
     "execution_count": 13,
     "metadata": {},
     "output_type": "execute_result"
    }
   ],
   "source": [
    "df = pd.read_csv(\"D:/Udemy/ML/Data Folder/Churn prediction/WA_Fn-UseC_-Telco-Customer-Churn.csv\")\n",
    "df.head()"
   ]
  },
  {
   "cell_type": "code",
   "execution_count": 14,
   "id": "a552111d",
   "metadata": {},
   "outputs": [
    {
     "data": {
      "text/plain": [
       "(7043, 21)"
      ]
     },
     "execution_count": 14,
     "metadata": {},
     "output_type": "execute_result"
    }
   ],
   "source": [
    "df.shape"
   ]
  },
  {
   "cell_type": "code",
   "execution_count": 15,
   "id": "9c2aab72",
   "metadata": {},
   "outputs": [
    {
     "name": "stdout",
     "output_type": "stream",
     "text": [
      "<class 'pandas.core.frame.DataFrame'>\n",
      "RangeIndex: 7043 entries, 0 to 7042\n",
      "Data columns (total 21 columns):\n",
      " #   Column            Non-Null Count  Dtype  \n",
      "---  ------            --------------  -----  \n",
      " 0   customerID        7043 non-null   object \n",
      " 1   gender            7043 non-null   object \n",
      " 2   SeniorCitizen     7043 non-null   int64  \n",
      " 3   Partner           7043 non-null   object \n",
      " 4   Dependents        7043 non-null   object \n",
      " 5   tenure            7043 non-null   int64  \n",
      " 6   PhoneService      7043 non-null   object \n",
      " 7   MultipleLines     7043 non-null   object \n",
      " 8   InternetService   7043 non-null   object \n",
      " 9   OnlineSecurity    7043 non-null   object \n",
      " 10  OnlineBackup      7043 non-null   object \n",
      " 11  DeviceProtection  7043 non-null   object \n",
      " 12  TechSupport       7043 non-null   object \n",
      " 13  StreamingTV       7043 non-null   object \n",
      " 14  StreamingMovies   7043 non-null   object \n",
      " 15  Contract          7043 non-null   object \n",
      " 16  PaperlessBilling  7043 non-null   object \n",
      " 17  PaymentMethod     7043 non-null   object \n",
      " 18  MonthlyCharges    7043 non-null   float64\n",
      " 19  TotalCharges      7043 non-null   object \n",
      " 20  Churn             7043 non-null   object \n",
      "dtypes: float64(1), int64(2), object(18)\n",
      "memory usage: 1.1+ MB\n"
     ]
    }
   ],
   "source": [
    "df.info()"
   ]
  },
  {
   "cell_type": "code",
   "execution_count": 16,
   "id": "12484fd7",
   "metadata": {},
   "outputs": [
    {
     "data": {
      "text/html": [
       "<div>\n",
       "<style scoped>\n",
       "    .dataframe tbody tr th:only-of-type {\n",
       "        vertical-align: middle;\n",
       "    }\n",
       "\n",
       "    .dataframe tbody tr th {\n",
       "        vertical-align: top;\n",
       "    }\n",
       "\n",
       "    .dataframe thead th {\n",
       "        text-align: right;\n",
       "    }\n",
       "</style>\n",
       "<table border=\"1\" class=\"dataframe\">\n",
       "  <thead>\n",
       "    <tr style=\"text-align: right;\">\n",
       "      <th></th>\n",
       "      <th>SeniorCitizen</th>\n",
       "      <th>tenure</th>\n",
       "      <th>MonthlyCharges</th>\n",
       "    </tr>\n",
       "  </thead>\n",
       "  <tbody>\n",
       "    <tr>\n",
       "      <th>count</th>\n",
       "      <td>7043.000000</td>\n",
       "      <td>7043.000000</td>\n",
       "      <td>7043.000000</td>\n",
       "    </tr>\n",
       "    <tr>\n",
       "      <th>mean</th>\n",
       "      <td>0.162147</td>\n",
       "      <td>32.371149</td>\n",
       "      <td>64.761692</td>\n",
       "    </tr>\n",
       "    <tr>\n",
       "      <th>std</th>\n",
       "      <td>0.368612</td>\n",
       "      <td>24.559481</td>\n",
       "      <td>30.090047</td>\n",
       "    </tr>\n",
       "    <tr>\n",
       "      <th>min</th>\n",
       "      <td>0.000000</td>\n",
       "      <td>0.000000</td>\n",
       "      <td>18.250000</td>\n",
       "    </tr>\n",
       "    <tr>\n",
       "      <th>25%</th>\n",
       "      <td>0.000000</td>\n",
       "      <td>9.000000</td>\n",
       "      <td>35.500000</td>\n",
       "    </tr>\n",
       "    <tr>\n",
       "      <th>50%</th>\n",
       "      <td>0.000000</td>\n",
       "      <td>29.000000</td>\n",
       "      <td>70.350000</td>\n",
       "    </tr>\n",
       "    <tr>\n",
       "      <th>75%</th>\n",
       "      <td>0.000000</td>\n",
       "      <td>55.000000</td>\n",
       "      <td>89.850000</td>\n",
       "    </tr>\n",
       "    <tr>\n",
       "      <th>max</th>\n",
       "      <td>1.000000</td>\n",
       "      <td>72.000000</td>\n",
       "      <td>118.750000</td>\n",
       "    </tr>\n",
       "  </tbody>\n",
       "</table>\n",
       "</div>"
      ],
      "text/plain": [
       "       SeniorCitizen       tenure  MonthlyCharges\n",
       "count    7043.000000  7043.000000     7043.000000\n",
       "mean        0.162147    32.371149       64.761692\n",
       "std         0.368612    24.559481       30.090047\n",
       "min         0.000000     0.000000       18.250000\n",
       "25%         0.000000     9.000000       35.500000\n",
       "50%         0.000000    29.000000       70.350000\n",
       "75%         0.000000    55.000000       89.850000\n",
       "max         1.000000    72.000000      118.750000"
      ]
     },
     "execution_count": 16,
     "metadata": {},
     "output_type": "execute_result"
    }
   ],
   "source": [
    "df.describe()"
   ]
  },
  {
   "cell_type": "code",
   "execution_count": 17,
   "id": "14cf76c7",
   "metadata": {},
   "outputs": [],
   "source": [
    "df.drop('customerID', axis='columns', inplace=True)"
   ]
  },
  {
   "cell_type": "code",
   "execution_count": 18,
   "id": "b0f8215d",
   "metadata": {},
   "outputs": [
    {
     "data": {
      "text/plain": [
       "gender               object\n",
       "SeniorCitizen         int64\n",
       "Partner              object\n",
       "Dependents           object\n",
       "tenure                int64\n",
       "PhoneService         object\n",
       "MultipleLines        object\n",
       "InternetService      object\n",
       "OnlineSecurity       object\n",
       "OnlineBackup         object\n",
       "DeviceProtection     object\n",
       "TechSupport          object\n",
       "StreamingTV          object\n",
       "StreamingMovies      object\n",
       "Contract             object\n",
       "PaperlessBilling     object\n",
       "PaymentMethod        object\n",
       "MonthlyCharges      float64\n",
       "TotalCharges         object\n",
       "Churn                object\n",
       "dtype: object"
      ]
     },
     "execution_count": 18,
     "metadata": {},
     "output_type": "execute_result"
    }
   ],
   "source": [
    "df.dtypes"
   ]
  },
  {
   "cell_type": "code",
   "execution_count": 19,
   "id": "b2c35d7b",
   "metadata": {},
   "outputs": [
    {
     "data": {
      "text/plain": [
       "array(['29.85', '1889.5', '108.15', ..., '346.45', '306.6', '6844.5'],\n",
       "      dtype=object)"
      ]
     },
     "execution_count": 19,
     "metadata": {},
     "output_type": "execute_result"
    }
   ],
   "source": [
    "df.TotalCharges.values"
   ]
  },
  {
   "cell_type": "code",
   "execution_count": 20,
   "id": "e101a04c",
   "metadata": {},
   "outputs": [
    {
     "ename": "ValueError",
     "evalue": "Unable to parse string \" \" at position 488",
     "output_type": "error",
     "traceback": [
      "\u001b[1;31m---------------------------------------------------------------------------\u001b[0m",
      "\u001b[1;31mValueError\u001b[0m                                Traceback (most recent call last)",
      "File \u001b[1;32md:\\Udemy\\ML\\venv\\Lib\\site-packages\\pandas\\_libs\\lib.pyx:2280\u001b[0m, in \u001b[0;36mpandas._libs.lib.maybe_convert_numeric\u001b[1;34m()\u001b[0m\n",
      "\u001b[1;31mValueError\u001b[0m: Unable to parse string \" \"",
      "\nDuring handling of the above exception, another exception occurred:\n",
      "\u001b[1;31mValueError\u001b[0m                                Traceback (most recent call last)",
      "Cell \u001b[1;32mIn[20], line 2\u001b[0m\n\u001b[0;32m      1\u001b[0m \u001b[39m# object to numeric\u001b[39;00m\n\u001b[1;32m----> 2\u001b[0m pd\u001b[39m.\u001b[39;49mto_numeric(df\u001b[39m.\u001b[39;49mTotalCharges)\n",
      "File \u001b[1;32md:\\Udemy\\ML\\venv\\Lib\\site-packages\\pandas\\core\\tools\\numeric.py:217\u001b[0m, in \u001b[0;36mto_numeric\u001b[1;34m(arg, errors, downcast, dtype_backend)\u001b[0m\n\u001b[0;32m    215\u001b[0m coerce_numeric \u001b[39m=\u001b[39m errors \u001b[39mnot\u001b[39;00m \u001b[39min\u001b[39;00m (\u001b[39m\"\u001b[39m\u001b[39mignore\u001b[39m\u001b[39m\"\u001b[39m, \u001b[39m\"\u001b[39m\u001b[39mraise\u001b[39m\u001b[39m\"\u001b[39m)\n\u001b[0;32m    216\u001b[0m \u001b[39mtry\u001b[39;00m:\n\u001b[1;32m--> 217\u001b[0m     values, new_mask \u001b[39m=\u001b[39m lib\u001b[39m.\u001b[39;49mmaybe_convert_numeric(  \u001b[39m# type: ignore[call-overload]  # noqa\u001b[39;49;00m\n\u001b[0;32m    218\u001b[0m         values,\n\u001b[0;32m    219\u001b[0m         \u001b[39mset\u001b[39;49m(),\n\u001b[0;32m    220\u001b[0m         coerce_numeric\u001b[39m=\u001b[39;49mcoerce_numeric,\n\u001b[0;32m    221\u001b[0m         convert_to_masked_nullable\u001b[39m=\u001b[39;49mdtype_backend \u001b[39mis\u001b[39;49;00m \u001b[39mnot\u001b[39;49;00m lib\u001b[39m.\u001b[39;49mno_default\n\u001b[0;32m    222\u001b[0m         \u001b[39mor\u001b[39;49;00m \u001b[39misinstance\u001b[39;49m(values_dtype, StringDtype),\n\u001b[0;32m    223\u001b[0m     )\n\u001b[0;32m    224\u001b[0m \u001b[39mexcept\u001b[39;00m (\u001b[39mValueError\u001b[39;00m, \u001b[39mTypeError\u001b[39;00m):\n\u001b[0;32m    225\u001b[0m     \u001b[39mif\u001b[39;00m errors \u001b[39m==\u001b[39m \u001b[39m\"\u001b[39m\u001b[39mraise\u001b[39m\u001b[39m\"\u001b[39m:\n",
      "File \u001b[1;32md:\\Udemy\\ML\\venv\\Lib\\site-packages\\pandas\\_libs\\lib.pyx:2322\u001b[0m, in \u001b[0;36mpandas._libs.lib.maybe_convert_numeric\u001b[1;34m()\u001b[0m\n",
      "\u001b[1;31mValueError\u001b[0m: Unable to parse string \" \" at position 488"
     ]
    }
   ],
   "source": [
    "# object to numeric\n",
    "pd.to_numeric(df.TotalCharges)"
   ]
  },
  {
   "cell_type": "code",
   "execution_count": 21,
   "id": "a942d482",
   "metadata": {},
   "outputs": [
    {
     "data": {
      "text/plain": [
       "(11, 20)"
      ]
     },
     "execution_count": 21,
     "metadata": {},
     "output_type": "execute_result"
    }
   ],
   "source": [
    "df[pd.to_numeric(df.TotalCharges,errors='coerce').isnull()].shape"
   ]
  },
  {
   "cell_type": "code",
   "execution_count": 22,
   "id": "d4c3b9b6",
   "metadata": {},
   "outputs": [
    {
     "data": {
      "text/plain": [
       "(7032, 20)"
      ]
     },
     "execution_count": 22,
     "metadata": {},
     "output_type": "execute_result"
    }
   ],
   "source": [
    "df1 = df[df.TotalCharges!=' ']\n",
    "df1.shape"
   ]
  },
  {
   "cell_type": "code",
   "execution_count": 23,
   "id": "c86acb43",
   "metadata": {},
   "outputs": [
    {
     "name": "stderr",
     "output_type": "stream",
     "text": [
      "C:\\Users\\Yash\\AppData\\Local\\Temp\\ipykernel_628\\973151263.py:1: SettingWithCopyWarning: \n",
      "A value is trying to be set on a copy of a slice from a DataFrame.\n",
      "Try using .loc[row_indexer,col_indexer] = value instead\n",
      "\n",
      "See the caveats in the documentation: https://pandas.pydata.org/pandas-docs/stable/user_guide/indexing.html#returning-a-view-versus-a-copy\n",
      "  df1.TotalCharges = pd.to_numeric(df1.TotalCharges)\n"
     ]
    }
   ],
   "source": [
    "df1.TotalCharges = pd.to_numeric(df1.TotalCharges)"
   ]
  },
  {
   "cell_type": "code",
   "execution_count": 24,
   "id": "ebbfcedf",
   "metadata": {},
   "outputs": [
    {
     "data": {
      "text/plain": [
       "dtype('float64')"
      ]
     },
     "execution_count": 24,
     "metadata": {},
     "output_type": "execute_result"
    }
   ],
   "source": [
    "df1.TotalCharges.dtypes"
   ]
  },
  {
   "cell_type": "code",
   "execution_count": 25,
   "id": "a5983a30",
   "metadata": {},
   "outputs": [
    {
     "data": {
      "text/plain": [
       "<matplotlib.legend.Legend at 0x1e2688e2510>"
      ]
     },
     "execution_count": 25,
     "metadata": {},
     "output_type": "execute_result"
    },
    {
     "data": {
      "image/png": "[encoded data removed]",
      "text/plain": [
       "<Figure size 640x480 with 1 Axes>"
      ]
     },
     "metadata": {},
     "output_type": "display_data"
    }
   ],
   "source": [
    "tenure_churn_no = df1[df1.Churn=='No'].tenure\n",
    "tenure_churn_yes = df1[df1.Churn=='Yes'].tenure\n",
    "\n",
    "plt.xlabel(\"Tenure\")\n",
    "plt.ylabel(\"Number of Customers\")\n",
    "plt.hist([tenure_churn_yes,tenure_churn_no], color=['red', 'green'], label=['Churn=Yes', 'Churn=No'])\n",
    "plt.legend()"
   ]
  },
  {
   "cell_type": "code",
   "execution_count": 26,
   "id": "65098ecb",
   "metadata": {},
   "outputs": [
    {
     "data": {
      "text/plain": [
       "<matplotlib.legend.Legend at 0x1e26890b590>"
      ]
     },
     "execution_count": 26,
     "metadata": {},
     "output_type": "execute_result"
    },
    {
     "data": {
      "image/png": "[encoded data removed]",
      "text/plain": [
       "<Figure size 640x480 with 1 Axes>"
      ]
     },
     "metadata": {},
     "output_type": "display_data"
    }
   ],
   "source": [
    "mc_churn_no = df1[df1.Churn=='No'].MonthlyCharges\n",
    "mc_churn_yes = df1[df1.Churn=='Yes'].MonthlyCharges\n",
    "\n",
    "plt.xlabel(\"MonthlyCharges\")\n",
    "plt.ylabel(\"Number of Customer\")\n",
    "plt.hist([mc_churn_yes, mc_churn_no], color = ['red', 'green'], label=['Churn=Yes', 'Churn=No'])\n",
    "plt.legend()"
   ]
  },
  {
   "cell_type": "code",
   "execution_count": 27,
   "id": "439adf4e",
   "metadata": {},
   "outputs": [],
   "source": [
    "def label_encoder():\n",
    "    for column in df1:\n",
    "        if df1[column].dtype == 'object':\n",
    "            print (f'{column} : {df1[column].unique()}')"
   ]
  },
  {
   "cell_type": "code",
   "execution_count": 28,
   "id": "b29f0f7e",
   "metadata": {},
   "outputs": [
    {
     "name": "stdout",
     "output_type": "stream",
     "text": [
      "gender : ['Female' 'Male']\n",
      "Partner : ['Yes' 'No']\n",
      "Dependents : ['No' 'Yes']\n",
      "PhoneService : ['No' 'Yes']\n",
      "MultipleLines : ['No phone service' 'No' 'Yes']\n",
      "InternetService : ['DSL' 'Fiber optic' 'No']\n",
      "OnlineSecurity : ['No' 'Yes' 'No internet service']\n",
      "OnlineBackup : ['Yes' 'No' 'No internet service']\n",
      "DeviceProtection : ['No' 'Yes' 'No internet service']\n",
      "TechSupport : ['No' 'Yes' 'No internet service']\n",
      "StreamingTV : ['No' 'Yes' 'No internet service']\n",
      "StreamingMovies : ['No' 'Yes' 'No internet service']\n",
      "Contract : ['Month-to-month' 'One year' 'Two year']\n",
      "PaperlessBilling : ['Yes' 'No']\n",
      "PaymentMethod : ['Electronic check' 'Mailed check' 'Bank transfer (automatic)'\n",
      " 'Credit card (automatic)']\n",
      "Churn : ['No' 'Yes']\n"
     ]
    }
   ],
   "source": [
    "label_encoder()"
   ]
  },
  {
   "cell_type": "code",
   "execution_count": 29,
   "id": "ee7d89e9",
   "metadata": {},
   "outputs": [
    {
     "name": "stderr",
     "output_type": "stream",
     "text": [
      "C:\\Users\\Yash\\AppData\\Local\\Temp\\ipykernel_628\\2569343429.py:1: SettingWithCopyWarning: \n",
      "A value is trying to be set on a copy of a slice from a DataFrame\n",
      "\n",
      "See the caveats in the documentation: https://pandas.pydata.org/pandas-docs/stable/user_guide/indexing.html#returning-a-view-versus-a-copy\n",
      "  df1.replace('No internet service', 'No', inplace=True)\n"
     ]
    }
   ],
   "source": [
    "df1.replace('No internet service', 'No', inplace=True)"
   ]
  },
  {
   "cell_type": "code",
   "execution_count": 30,
   "id": "c800f5be",
   "metadata": {},
   "outputs": [
    {
     "name": "stderr",
     "output_type": "stream",
     "text": [
      "C:\\Users\\Yash\\AppData\\Local\\Temp\\ipykernel_628\\2113595939.py:1: SettingWithCopyWarning: \n",
      "A value is trying to be set on a copy of a slice from a DataFrame\n",
      "\n",
      "See the caveats in the documentation: https://pandas.pydata.org/pandas-docs/stable/user_guide/indexing.html#returning-a-view-versus-a-copy\n",
      "  df1.replace('No phone service', 'No', inplace=True)\n"
     ]
    }
   ],
   "source": [
    "df1.replace('No phone service', 'No', inplace=True)"
   ]
  },
  {
   "cell_type": "code",
   "execution_count": 31,
   "id": "a6cf471a",
   "metadata": {},
   "outputs": [
    {
     "name": "stdout",
     "output_type": "stream",
     "text": [
      "gender : ['Female' 'Male']\n",
      "Partner : ['Yes' 'No']\n",
      "Dependents : ['No' 'Yes']\n",
      "PhoneService : ['No' 'Yes']\n",
      "MultipleLines : ['No' 'Yes']\n",
      "InternetService : ['DSL' 'Fiber optic' 'No']\n",
      "OnlineSecurity : ['No' 'Yes']\n",
      "OnlineBackup : ['Yes' 'No']\n",
      "DeviceProtection : ['No' 'Yes']\n",
      "TechSupport : ['No' 'Yes']\n",
      "StreamingTV : ['No' 'Yes']\n",
      "StreamingMovies : ['No' 'Yes']\n",
      "Contract : ['Month-to-month' 'One year' 'Two year']\n",
      "PaperlessBilling : ['Yes' 'No']\n",
      "PaymentMethod : ['Electronic check' 'Mailed check' 'Bank transfer (automatic)'\n",
      " 'Credit card (automatic)']\n",
      "Churn : ['No' 'Yes']\n"
     ]
    }
   ],
   "source": [
    "label_encoder()"
   ]
  },
  {
   "cell_type": "code",
   "execution_count": 32,
   "id": "d94db73e",
   "metadata": {},
   "outputs": [
    {
     "name": "stderr",
     "output_type": "stream",
     "text": [
      "C:\\Users\\Yash\\AppData\\Local\\Temp\\ipykernel_628\\2554820930.py:5: SettingWithCopyWarning: \n",
      "A value is trying to be set on a copy of a slice from a DataFrame\n",
      "\n",
      "See the caveats in the documentation: https://pandas.pydata.org/pandas-docs/stable/user_guide/indexing.html#returning-a-view-versus-a-copy\n",
      "  df1[cols].replace({'Yes': 1, 'No' : 0}, inplace=True)\n"
     ]
    }
   ],
   "source": [
    "yes_no_cols=['Partner', 'Dependents', 'PhoneService', 'MultipleLines', 'OnlineSecurity',\n",
    "        'OnlineBackup', 'DeviceProtection', 'TechSupport', 'StreamingTV', 'StreamingMovies', 'PaperlessBilling', 'Churn']\n",
    "\n",
    "for cols in yes_no_cols:\n",
    "    df1[cols].replace({'Yes': 1, 'No' : 0}, inplace=True)\n"
   ]
  },
  {
   "cell_type": "code",
   "execution_count": 33,
   "id": "e8493285",
   "metadata": {},
   "outputs": [
    {
     "name": "stdout",
     "output_type": "stream",
     "text": [
      "['Female' 'Male']\n",
      "[0 1]\n",
      "[1 0]\n",
      "[0 1]\n",
      "[ 1 34  2 45  8 22 10 28 62 13 16 58 49 25 69 52 71 21 12 30 47 72 17 27\n",
      "  5 46 11 70 63 43 15 60 18 66  9  3 31 50 64 56  7 42 35 48 29 65 38 68\n",
      " 32 55 37 36 41  6  4 33 67 23 57 61 14 20 53 40 59 24 44 19 54 51 26 39]\n",
      "[0 1]\n",
      "[0 1]\n",
      "['DSL' 'Fiber optic' 'No']\n",
      "[0 1]\n",
      "[1 0]\n",
      "[0 1]\n",
      "[0 1]\n",
      "[0 1]\n",
      "[0 1]\n",
      "['Month-to-month' 'One year' 'Two year']\n",
      "[1 0]\n",
      "['Electronic check' 'Mailed check' 'Bank transfer (automatic)'\n",
      " 'Credit card (automatic)']\n",
      "[29.85 56.95 53.85 ... 63.1  44.2  78.7 ]\n",
      "[  29.85 1889.5   108.15 ...  346.45  306.6  6844.5 ]\n",
      "[0 1]\n"
     ]
    }
   ],
   "source": [
    "for i in df1:\n",
    "    print(df1[i].unique())"
   ]
  },
  {
   "cell_type": "code",
   "execution_count": 34,
   "id": "b67dadf5",
   "metadata": {},
   "outputs": [
    {
     "name": "stderr",
     "output_type": "stream",
     "text": [
      "C:\\Users\\Yash\\AppData\\Local\\Temp\\ipykernel_628\\2863312214.py:1: SettingWithCopyWarning: \n",
      "A value is trying to be set on a copy of a slice from a DataFrame\n",
      "\n",
      "See the caveats in the documentation: https://pandas.pydata.org/pandas-docs/stable/user_guide/indexing.html#returning-a-view-versus-a-copy\n",
      "  df1['gender'].replace({'Male' : 1,'Female':0}, inplace=True)\n"
     ]
    }
   ],
   "source": [
    "df1['gender'].replace({'Male' : 1,'Female':0}, inplace=True)"
   ]
  },
  {
   "cell_type": "code",
   "execution_count": 35,
   "id": "68b1264c",
   "metadata": {},
   "outputs": [
    {
     "data": {
      "text/plain": [
       "Index(['gender', 'SeniorCitizen', 'Partner', 'Dependents', 'tenure',\n",
       "       'PhoneService', 'MultipleLines', 'OnlineSecurity', 'OnlineBackup',\n",
       "       'DeviceProtection', 'TechSupport', 'StreamingTV', 'StreamingMovies',\n",
       "       'PaperlessBilling', 'MonthlyCharges', 'TotalCharges', 'Churn',\n",
       "       'InternetService_DSL', 'InternetService_Fiber optic',\n",
       "       'InternetService_No', 'Contract_Month-to-month', 'Contract_One year',\n",
       "       'Contract_Two year', 'PaymentMethod_Bank transfer (automatic)',\n",
       "       'PaymentMethod_Credit card (automatic)',\n",
       "       'PaymentMethod_Electronic check', 'PaymentMethod_Mailed check'],\n",
       "      dtype='object')"
      ]
     },
     "execution_count": 35,
     "metadata": {},
     "output_type": "execute_result"
    }
   ],
   "source": [
    "# one hot encoding\n",
    "df2 = pd.get_dummies(data=df1, columns=['InternetService', 'Contract', 'PaymentMethod'], dtype=int)\n",
    "df2.columns"
   ]
  },
  {
   "cell_type": "code",
   "execution_count": 36,
   "id": "5f6e675b",
   "metadata": {},
   "outputs": [
    {
     "data": {
      "text/html": [
       "<div>\n",
       "<style scoped>\n",
       "    .dataframe tbody tr th:only-of-type {\n",
       "        vertical-align: middle;\n",
       "    }\n",
       "\n",
       "    .dataframe tbody tr th {\n",
       "        vertical-align: top;\n",
       "    }\n",
       "\n",
       "    .dataframe thead th {\n",
       "        text-align: right;\n",
       "    }\n",
       "</style>\n",
       "<table border=\"1\" class=\"dataframe\">\n",
       "  <thead>\n",
       "    <tr style=\"text-align: right;\">\n",
       "      <th></th>\n",
       "      <th>gender</th>\n",
       "      <th>SeniorCitizen</th>\n",
       "      <th>Partner</th>\n",
       "      <th>Dependents</th>\n",
       "      <th>tenure</th>\n",
       "      <th>PhoneService</th>\n",
       "      <th>MultipleLines</th>\n",
       "      <th>OnlineSecurity</th>\n",
       "      <th>OnlineBackup</th>\n",
       "      <th>DeviceProtection</th>\n",
       "      <th>...</th>\n",
       "      <th>InternetService_DSL</th>\n",
       "      <th>InternetService_Fiber optic</th>\n",
       "      <th>InternetService_No</th>\n",
       "      <th>Contract_Month-to-month</th>\n",
       "      <th>Contract_One year</th>\n",
       "      <th>Contract_Two year</th>\n",
       "      <th>PaymentMethod_Bank transfer (automatic)</th>\n",
       "      <th>PaymentMethod_Credit card (automatic)</th>\n",
       "      <th>PaymentMethod_Electronic check</th>\n",
       "      <th>PaymentMethod_Mailed check</th>\n",
       "    </tr>\n",
       "  </thead>\n",
       "  <tbody>\n",
       "    <tr>\n",
       "      <th>0</th>\n",
       "      <td>0</td>\n",
       "      <td>0</td>\n",
       "      <td>1</td>\n",
       "      <td>0</td>\n",
       "      <td>1</td>\n",
       "      <td>0</td>\n",
       "      <td>0</td>\n",
       "      <td>0</td>\n",
       "      <td>1</td>\n",
       "      <td>0</td>\n",
       "      <td>...</td>\n",
       "      <td>1</td>\n",
       "      <td>0</td>\n",
       "      <td>0</td>\n",
       "      <td>1</td>\n",
       "      <td>0</td>\n",
       "      <td>0</td>\n",
       "      <td>0</td>\n",
       "      <td>0</td>\n",
       "      <td>1</td>\n",
       "      <td>0</td>\n",
       "    </tr>\n",
       "    <tr>\n",
       "      <th>1</th>\n",
       "      <td>1</td>\n",
       "      <td>0</td>\n",
       "      <td>0</td>\n",
       "      <td>0</td>\n",
       "      <td>34</td>\n",
       "      <td>1</td>\n",
       "      <td>0</td>\n",
       "      <td>1</td>\n",
       "      <td>0</td>\n",
       "      <td>1</td>\n",
       "      <td>...</td>\n",
       "      <td>1</td>\n",
       "      <td>0</td>\n",
       "      <td>0</td>\n",
       "      <td>0</td>\n",
       "      <td>1</td>\n",
       "      <td>0</td>\n",
       "      <td>0</td>\n",
       "      <td>0</td>\n",
       "      <td>0</td>\n",
       "      <td>1</td>\n",
       "    </tr>\n",
       "    <tr>\n",
       "      <th>2</th>\n",
       "      <td>1</td>\n",
       "      <td>0</td>\n",
       "      <td>0</td>\n",
       "      <td>0</td>\n",
       "      <td>2</td>\n",
       "      <td>1</td>\n",
       "      <td>0</td>\n",
       "      <td>1</td>\n",
       "      <td>1</td>\n",
       "      <td>0</td>\n",
       "      <td>...</td>\n",
       "      <td>1</td>\n",
       "      <td>0</td>\n",
       "      <td>0</td>\n",
       "      <td>1</td>\n",
       "      <td>0</td>\n",
       "      <td>0</td>\n",
       "      <td>0</td>\n",
       "      <td>0</td>\n",
       "      <td>0</td>\n",
       "      <td>1</td>\n",
       "    </tr>\n",
       "    <tr>\n",
       "      <th>3</th>\n",
       "      <td>1</td>\n",
       "      <td>0</td>\n",
       "      <td>0</td>\n",
       "      <td>0</td>\n",
       "      <td>45</td>\n",
       "      <td>0</td>\n",
       "      <td>0</td>\n",
       "      <td>1</td>\n",
       "      <td>0</td>\n",
       "      <td>1</td>\n",
       "      <td>...</td>\n",
       "      <td>1</td>\n",
       "      <td>0</td>\n",
       "      <td>0</td>\n",
       "      <td>0</td>\n",
       "      <td>1</td>\n",
       "      <td>0</td>\n",
       "      <td>1</td>\n",
       "      <td>0</td>\n",
       "      <td>0</td>\n",
       "      <td>0</td>\n",
       "    </tr>\n",
       "    <tr>\n",
       "      <th>4</th>\n",
       "      <td>0</td>\n",
       "      <td>0</td>\n",
       "      <td>0</td>\n",
       "      <td>0</td>\n",
       "      <td>2</td>\n",
       "      <td>1</td>\n",
       "      <td>0</td>\n",
       "      <td>0</td>\n",
       "      <td>0</td>\n",
       "      <td>0</td>\n",
       "      <td>...</td>\n",
       "      <td>0</td>\n",
       "      <td>1</td>\n",
       "      <td>0</td>\n",
       "      <td>1</td>\n",
       "      <td>0</td>\n",
       "      <td>0</td>\n",
       "      <td>0</td>\n",
       "      <td>0</td>\n",
       "      <td>1</td>\n",
       "      <td>0</td>\n",
       "    </tr>\n",
       "  </tbody>\n",
       "</table>\n",
       "<p>5 rows × 27 columns</p>\n",
       "</div>"
      ],
      "text/plain": [
       "   gender  SeniorCitizen  Partner  Dependents  tenure  PhoneService   \n",
       "0       0              0        1           0       1             0  \\\n",
       "1       1              0        0           0      34             1   \n",
       "2       1              0        0           0       2             1   \n",
       "3       1              0        0           0      45             0   \n",
       "4       0              0        0           0       2             1   \n",
       "\n",
       "   MultipleLines  OnlineSecurity  OnlineBackup  DeviceProtection  ...   \n",
       "0              0               0             1                 0  ...  \\\n",
       "1              0               1             0                 1  ...   \n",
       "2              0               1             1                 0  ...   \n",
       "3              0               1             0                 1  ...   \n",
       "4              0               0             0                 0  ...   \n",
       "\n",
       "   InternetService_DSL  InternetService_Fiber optic  InternetService_No   \n",
       "0                    1                            0                   0  \\\n",
       "1                    1                            0                   0   \n",
       "2                    1                            0                   0   \n",
       "3                    1                            0                   0   \n",
       "4                    0                            1                   0   \n",
       "\n",
       "   Contract_Month-to-month  Contract_One year  Contract_Two year   \n",
       "0                        1                  0                  0  \\\n",
       "1                        0                  1                  0   \n",
       "2                        1                  0                  0   \n",
       "3                        0                  1                  0   \n",
       "4                        1                  0                  0   \n",
       "\n",
       "   PaymentMethod_Bank transfer (automatic)   \n",
       "0                                        0  \\\n",
       "1                                        0   \n",
       "2                                        0   \n",
       "3                                        1   \n",
       "4                                        0   \n",
       "\n",
       "   PaymentMethod_Credit card (automatic)  PaymentMethod_Electronic check   \n",
       "0                                      0                               1  \\\n",
       "1                                      0                               0   \n",
       "2                                      0                               0   \n",
       "3                                      0                               0   \n",
       "4                                      0                               1   \n",
       "\n",
       "   PaymentMethod_Mailed check  \n",
       "0                           0  \n",
       "1                           1  \n",
       "2                           1  \n",
       "3                           0  \n",
       "4                           0  \n",
       "\n",
       "[5 rows x 27 columns]"
      ]
     },
     "execution_count": 36,
     "metadata": {},
     "output_type": "execute_result"
    }
   ],
   "source": [
    "df2.head()"
   ]
  },
  {
   "cell_type": "code",
   "execution_count": 37,
   "id": "55a1067d",
   "metadata": {},
   "outputs": [
    {
     "data": {
      "text/plain": [
       "(7032, 27)"
      ]
     },
     "execution_count": 37,
     "metadata": {},
     "output_type": "execute_result"
    }
   ],
   "source": [
    "df2.shape"
   ]
  },
  {
   "cell_type": "code",
   "execution_count": 38,
   "id": "a0096793",
   "metadata": {},
   "outputs": [],
   "source": [
    "# Scaling\n",
    "cols_to_scale = ['tenure', 'MonthlyCharges', 'TotalCharges']\n",
    "\n",
    "from sklearn.preprocessing import MinMaxScaler\n",
    "scaler = MinMaxScaler()\n",
    "\n",
    "df2[cols_to_scale] = scaler.fit_transform(df2[cols_to_scale])"
   ]
  },
  {
   "cell_type": "code",
   "execution_count": 39,
   "id": "d2748869",
   "metadata": {},
   "outputs": [
    {
     "data": {
      "text/html": [
       "<div>\n",
       "<style scoped>\n",
       "    .dataframe tbody tr th:only-of-type {\n",
       "        vertical-align: middle;\n",
       "    }\n",
       "\n",
       "    .dataframe tbody tr th {\n",
       "        vertical-align: top;\n",
       "    }\n",
       "\n",
       "    .dataframe thead th {\n",
       "        text-align: right;\n",
       "    }\n",
       "</style>\n",
       "<table border=\"1\" class=\"dataframe\">\n",
       "  <thead>\n",
       "    <tr style=\"text-align: right;\">\n",
       "      <th></th>\n",
       "      <th>gender</th>\n",
       "      <th>SeniorCitizen</th>\n",
       "      <th>Partner</th>\n",
       "      <th>Dependents</th>\n",
       "      <th>tenure</th>\n",
       "      <th>PhoneService</th>\n",
       "      <th>MultipleLines</th>\n",
       "      <th>OnlineSecurity</th>\n",
       "      <th>OnlineBackup</th>\n",
       "      <th>DeviceProtection</th>\n",
       "      <th>...</th>\n",
       "      <th>InternetService_DSL</th>\n",
       "      <th>InternetService_Fiber optic</th>\n",
       "      <th>InternetService_No</th>\n",
       "      <th>Contract_Month-to-month</th>\n",
       "      <th>Contract_One year</th>\n",
       "      <th>Contract_Two year</th>\n",
       "      <th>PaymentMethod_Bank transfer (automatic)</th>\n",
       "      <th>PaymentMethod_Credit card (automatic)</th>\n",
       "      <th>PaymentMethod_Electronic check</th>\n",
       "      <th>PaymentMethod_Mailed check</th>\n",
       "    </tr>\n",
       "  </thead>\n",
       "  <tbody>\n",
       "    <tr>\n",
       "      <th>3270</th>\n",
       "      <td>0</td>\n",
       "      <td>0</td>\n",
       "      <td>0</td>\n",
       "      <td>0</td>\n",
       "      <td>0.042254</td>\n",
       "      <td>1</td>\n",
       "      <td>1</td>\n",
       "      <td>0</td>\n",
       "      <td>0</td>\n",
       "      <td>0</td>\n",
       "      <td>...</td>\n",
       "      <td>0</td>\n",
       "      <td>1</td>\n",
       "      <td>0</td>\n",
       "      <td>1</td>\n",
       "      <td>0</td>\n",
       "      <td>0</td>\n",
       "      <td>0</td>\n",
       "      <td>0</td>\n",
       "      <td>0</td>\n",
       "      <td>1</td>\n",
       "    </tr>\n",
       "    <tr>\n",
       "      <th>4990</th>\n",
       "      <td>0</td>\n",
       "      <td>0</td>\n",
       "      <td>1</td>\n",
       "      <td>1</td>\n",
       "      <td>0.070423</td>\n",
       "      <td>1</td>\n",
       "      <td>0</td>\n",
       "      <td>0</td>\n",
       "      <td>0</td>\n",
       "      <td>0</td>\n",
       "      <td>...</td>\n",
       "      <td>1</td>\n",
       "      <td>0</td>\n",
       "      <td>0</td>\n",
       "      <td>1</td>\n",
       "      <td>0</td>\n",
       "      <td>0</td>\n",
       "      <td>0</td>\n",
       "      <td>0</td>\n",
       "      <td>0</td>\n",
       "      <td>1</td>\n",
       "    </tr>\n",
       "  </tbody>\n",
       "</table>\n",
       "<p>2 rows × 27 columns</p>\n",
       "</div>"
      ],
      "text/plain": [
       "      gender  SeniorCitizen  Partner  Dependents    tenure  PhoneService   \n",
       "3270       0              0        0           0  0.042254             1  \\\n",
       "4990       0              0        1           1  0.070423             1   \n",
       "\n",
       "      MultipleLines  OnlineSecurity  OnlineBackup  DeviceProtection  ...   \n",
       "3270              1               0             0                 0  ...  \\\n",
       "4990              0               0             0                 0  ...   \n",
       "\n",
       "      InternetService_DSL  InternetService_Fiber optic  InternetService_No   \n",
       "3270                    0                            1                   0  \\\n",
       "4990                    1                            0                   0   \n",
       "\n",
       "      Contract_Month-to-month  Contract_One year  Contract_Two year   \n",
       "3270                        1                  0                  0  \\\n",
       "4990                        1                  0                  0   \n",
       "\n",
       "      PaymentMethod_Bank transfer (automatic)   \n",
       "3270                                        0  \\\n",
       "4990                                        0   \n",
       "\n",
       "      PaymentMethod_Credit card (automatic)  PaymentMethod_Electronic check   \n",
       "3270                                      0                               0  \\\n",
       "4990                                      0                               0   \n",
       "\n",
       "      PaymentMethod_Mailed check  \n",
       "3270                           1  \n",
       "4990                           1  \n",
       "\n",
       "[2 rows x 27 columns]"
      ]
     },
     "execution_count": 39,
     "metadata": {},
     "output_type": "execute_result"
    }
   ],
   "source": [
    "df2.sample(2)"
   ]
  },
  {
   "cell_type": "code",
   "execution_count": 40,
   "id": "a5fe7df3",
   "metadata": {},
   "outputs": [],
   "source": [
    "X = df2.drop('Churn', axis='columns')\n",
    "Y = df2['Churn']"
   ]
  },
  {
   "cell_type": "code",
   "execution_count": 41,
   "id": "c58e252e",
   "metadata": {},
   "outputs": [],
   "source": [
    "from sklearn.model_selection import train_test_split\n",
    "X_train, X_test, Y_train, Y_test = train_test_split(X, Y, test_size=0.2, random_state=3)"
   ]
  },
  {
   "cell_type": "code",
   "execution_count": 42,
   "id": "fbc6fb71",
   "metadata": {},
   "outputs": [
    {
     "name": "stdout",
     "output_type": "stream",
     "text": [
      "Epoch 1/100\n",
      "176/176 [==============================] - 1s 1ms/step - loss: 0.5118 - accuracy: 0.7344\n",
      "Epoch 2/100\n",
      "176/176 [==============================] - 0s 935us/step - loss: 0.4410 - accuracy: 0.7847\n",
      "Epoch 3/100\n",
      "176/176 [==============================] - 0s 1ms/step - loss: 0.4304 - accuracy: 0.7884\n",
      "Epoch 4/100\n",
      "176/176 [==============================] - 0s 900us/step - loss: 0.4258 - accuracy: 0.7927\n",
      "Epoch 5/100\n",
      "176/176 [==============================] - 0s 838us/step - loss: 0.4219 - accuracy: 0.7982\n",
      "Epoch 6/100\n",
      "176/176 [==============================] - 0s 832us/step - loss: 0.4194 - accuracy: 0.8009\n",
      "Epoch 7/100\n",
      "176/176 [==============================] - 0s 847us/step - loss: 0.4173 - accuracy: 0.8053\n",
      "Epoch 8/100\n",
      "176/176 [==============================] - 0s 988us/step - loss: 0.4152 - accuracy: 0.8043\n",
      "Epoch 9/100\n",
      "176/176 [==============================] - 0s 867us/step - loss: 0.4145 - accuracy: 0.8066\n",
      "Epoch 10/100\n",
      "176/176 [==============================] - 0s 913us/step - loss: 0.4141 - accuracy: 0.8071\n",
      "Epoch 11/100\n",
      "176/176 [==============================] - 0s 947us/step - loss: 0.4126 - accuracy: 0.8037\n",
      "Epoch 12/100\n",
      "176/176 [==============================] - 0s 986us/step - loss: 0.4116 - accuracy: 0.8069\n",
      "Epoch 13/100\n",
      "176/176 [==============================] - 0s 984us/step - loss: 0.4105 - accuracy: 0.8080\n",
      "Epoch 14/100\n",
      "176/176 [==============================] - 0s 958us/step - loss: 0.4099 - accuracy: 0.8064\n",
      "Epoch 15/100\n",
      "176/176 [==============================] - 0s 1ms/step - loss: 0.4097 - accuracy: 0.8085\n",
      "Epoch 16/100\n",
      "176/176 [==============================] - 0s 1ms/step - loss: 0.4089 - accuracy: 0.8087\n",
      "Epoch 17/100\n",
      "176/176 [==============================] - 0s 1ms/step - loss: 0.4077 - accuracy: 0.8089\n",
      "Epoch 18/100\n",
      "176/176 [==============================] - 0s 1ms/step - loss: 0.4066 - accuracy: 0.8084\n",
      "Epoch 19/100\n",
      "176/176 [==============================] - 0s 2ms/step - loss: 0.4060 - accuracy: 0.8091\n",
      "Epoch 20/100\n",
      "176/176 [==============================] - 0s 985us/step - loss: 0.4057 - accuracy: 0.8076\n",
      "Epoch 21/100\n",
      "176/176 [==============================] - 0s 992us/step - loss: 0.4043 - accuracy: 0.8114\n",
      "Epoch 22/100\n",
      "176/176 [==============================] - 0s 1ms/step - loss: 0.4039 - accuracy: 0.8087\n",
      "Epoch 23/100\n",
      "176/176 [==============================] - 0s 914us/step - loss: 0.4033 - accuracy: 0.8085\n",
      "Epoch 24/100\n",
      "176/176 [==============================] - 0s 997us/step - loss: 0.4029 - accuracy: 0.8107\n",
      "Epoch 25/100\n",
      "176/176 [==============================] - 0s 936us/step - loss: 0.4022 - accuracy: 0.8103\n",
      "Epoch 26/100\n",
      "176/176 [==============================] - 0s 918us/step - loss: 0.4013 - accuracy: 0.8128\n",
      "Epoch 27/100\n",
      "176/176 [==============================] - 0s 1ms/step - loss: 0.4008 - accuracy: 0.8110\n",
      "Epoch 28/100\n",
      "176/176 [==============================] - 0s 1ms/step - loss: 0.3995 - accuracy: 0.8105\n",
      "Epoch 29/100\n",
      "176/176 [==============================] - 0s 906us/step - loss: 0.3998 - accuracy: 0.8114\n",
      "Epoch 30/100\n",
      "176/176 [==============================] - 0s 1ms/step - loss: 0.3988 - accuracy: 0.8130\n",
      "Epoch 31/100\n",
      "176/176 [==============================] - 0s 1ms/step - loss: 0.3984 - accuracy: 0.8130\n",
      "Epoch 32/100\n",
      "176/176 [==============================] - 0s 1ms/step - loss: 0.3983 - accuracy: 0.8124\n",
      "Epoch 33/100\n",
      "176/176 [==============================] - 0s 1ms/step - loss: 0.3967 - accuracy: 0.8140\n",
      "Epoch 34/100\n",
      "176/176 [==============================] - 0s 1ms/step - loss: 0.3969 - accuracy: 0.8146\n",
      "Epoch 35/100\n",
      "176/176 [==============================] - 0s 1ms/step - loss: 0.3956 - accuracy: 0.8142\n",
      "Epoch 36/100\n",
      "176/176 [==============================] - 0s 1ms/step - loss: 0.3961 - accuracy: 0.8124\n",
      "Epoch 37/100\n",
      "176/176 [==============================] - 0s 932us/step - loss: 0.3954 - accuracy: 0.8164\n",
      "Epoch 38/100\n",
      "176/176 [==============================] - 0s 941us/step - loss: 0.3947 - accuracy: 0.8151\n",
      "Epoch 39/100\n",
      "176/176 [==============================] - 0s 1ms/step - loss: 0.3944 - accuracy: 0.8135\n",
      "Epoch 40/100\n",
      "176/176 [==============================] - 0s 1ms/step - loss: 0.3937 - accuracy: 0.8140\n",
      "Epoch 41/100\n",
      "176/176 [==============================] - 0s 924us/step - loss: 0.3926 - accuracy: 0.8164\n",
      "Epoch 42/100\n",
      "176/176 [==============================] - 0s 1ms/step - loss: 0.3928 - accuracy: 0.8126\n",
      "Epoch 43/100\n",
      "176/176 [==============================] - 0s 1ms/step - loss: 0.3921 - accuracy: 0.8180\n",
      "Epoch 44/100\n",
      "176/176 [==============================] - 0s 1ms/step - loss: 0.3930 - accuracy: 0.8165\n",
      "Epoch 45/100\n",
      "176/176 [==============================] - 0s 2ms/step - loss: 0.3910 - accuracy: 0.8155\n",
      "Epoch 46/100\n",
      "176/176 [==============================] - 0s 1ms/step - loss: 0.3903 - accuracy: 0.8167\n",
      "Epoch 47/100\n",
      "176/176 [==============================] - 0s 1ms/step - loss: 0.3908 - accuracy: 0.8176\n",
      "Epoch 48/100\n",
      "176/176 [==============================] - 0s 1ms/step - loss: 0.3890 - accuracy: 0.8153\n",
      "Epoch 49/100\n",
      "176/176 [==============================] - 0s 1ms/step - loss: 0.3882 - accuracy: 0.8188\n",
      "Epoch 50/100\n",
      "176/176 [==============================] - 0s 1ms/step - loss: 0.3885 - accuracy: 0.8187\n",
      "Epoch 51/100\n",
      "176/176 [==============================] - 0s 997us/step - loss: 0.3887 - accuracy: 0.8149\n",
      "Epoch 52/100\n",
      "176/176 [==============================] - 0s 935us/step - loss: 0.3866 - accuracy: 0.8206\n",
      "Epoch 53/100\n",
      "176/176 [==============================] - 0s 918us/step - loss: 0.3875 - accuracy: 0.8171\n",
      "Epoch 54/100\n",
      "176/176 [==============================] - 0s 947us/step - loss: 0.3875 - accuracy: 0.8176\n",
      "Epoch 55/100\n",
      "176/176 [==============================] - 0s 892us/step - loss: 0.3860 - accuracy: 0.8169\n",
      "Epoch 56/100\n",
      "176/176 [==============================] - 0s 1ms/step - loss: 0.3865 - accuracy: 0.8183\n",
      "Epoch 57/100\n",
      "176/176 [==============================] - 0s 885us/step - loss: 0.3861 - accuracy: 0.8164\n",
      "Epoch 58/100\n",
      "176/176 [==============================] - 0s 900us/step - loss: 0.3851 - accuracy: 0.8178\n",
      "Epoch 59/100\n",
      "176/176 [==============================] - 0s 896us/step - loss: 0.3857 - accuracy: 0.8165\n",
      "Epoch 60/100\n",
      "176/176 [==============================] - 0s 901us/step - loss: 0.3841 - accuracy: 0.8174\n",
      "Epoch 61/100\n",
      "176/176 [==============================] - 0s 964us/step - loss: 0.3839 - accuracy: 0.8172\n",
      "Epoch 62/100\n",
      "176/176 [==============================] - 0s 894us/step - loss: 0.3829 - accuracy: 0.8204\n",
      "Epoch 63/100\n",
      "176/176 [==============================] - 0s 954us/step - loss: 0.3834 - accuracy: 0.8176\n",
      "Epoch 64/100\n",
      "176/176 [==============================] - 0s 890us/step - loss: 0.3823 - accuracy: 0.8226\n",
      "Epoch 65/100\n",
      "176/176 [==============================] - 0s 894us/step - loss: 0.3819 - accuracy: 0.8204\n",
      "Epoch 66/100\n",
      "176/176 [==============================] - 0s 890us/step - loss: 0.3824 - accuracy: 0.8210\n",
      "Epoch 67/100\n",
      "176/176 [==============================] - 0s 1ms/step - loss: 0.3824 - accuracy: 0.8194\n",
      "Epoch 68/100\n",
      "176/176 [==============================] - 0s 883us/step - loss: 0.3807 - accuracy: 0.8217\n",
      "Epoch 69/100\n",
      "176/176 [==============================] - 0s 988us/step - loss: 0.3817 - accuracy: 0.8213\n",
      "Epoch 70/100\n",
      "176/176 [==============================] - 0s 1ms/step - loss: 0.3800 - accuracy: 0.8192\n",
      "Epoch 71/100\n",
      "176/176 [==============================] - 0s 891us/step - loss: 0.3809 - accuracy: 0.8197\n",
      "Epoch 72/100\n",
      "176/176 [==============================] - 0s 890us/step - loss: 0.3802 - accuracy: 0.8181\n",
      "Epoch 73/100\n",
      "176/176 [==============================] - 0s 879us/step - loss: 0.3800 - accuracy: 0.8180\n",
      "Epoch 74/100\n",
      "176/176 [==============================] - 0s 877us/step - loss: 0.3796 - accuracy: 0.8220\n",
      "Epoch 75/100\n",
      "176/176 [==============================] - 0s 868us/step - loss: 0.3795 - accuracy: 0.8201\n",
      "Epoch 76/100\n",
      "176/176 [==============================] - 0s 896us/step - loss: 0.3780 - accuracy: 0.8201\n",
      "Epoch 77/100\n",
      "176/176 [==============================] - 0s 963us/step - loss: 0.3787 - accuracy: 0.8212\n",
      "Epoch 78/100\n",
      "176/176 [==============================] - 0s 868us/step - loss: 0.3787 - accuracy: 0.8181\n",
      "Epoch 79/100\n",
      "176/176 [==============================] - 0s 891us/step - loss: 0.3794 - accuracy: 0.8199\n",
      "Epoch 80/100\n",
      "176/176 [==============================] - 0s 906us/step - loss: 0.3782 - accuracy: 0.8213\n",
      "Epoch 81/100\n",
      "176/176 [==============================] - 0s 1ms/step - loss: 0.3775 - accuracy: 0.8231\n",
      "Epoch 82/100\n",
      "176/176 [==============================] - 0s 900us/step - loss: 0.3780 - accuracy: 0.8201\n",
      "Epoch 83/100\n",
      "176/176 [==============================] - 0s 940us/step - loss: 0.3780 - accuracy: 0.8208\n",
      "Epoch 84/100\n",
      "176/176 [==============================] - 0s 943us/step - loss: 0.3774 - accuracy: 0.8219\n",
      "Epoch 85/100\n",
      "176/176 [==============================] - 0s 899us/step - loss: 0.3760 - accuracy: 0.8219\n",
      "Epoch 86/100\n",
      "176/176 [==============================] - 0s 884us/step - loss: 0.3753 - accuracy: 0.8236\n",
      "Epoch 87/100\n",
      "176/176 [==============================] - 0s 874us/step - loss: 0.3766 - accuracy: 0.8236\n",
      "Epoch 88/100\n",
      "176/176 [==============================] - 0s 879us/step - loss: 0.3763 - accuracy: 0.8224\n",
      "Epoch 89/100\n",
      "176/176 [==============================] - 0s 894us/step - loss: 0.3750 - accuracy: 0.8240\n",
      "Epoch 90/100\n",
      "176/176 [==============================] - 0s 886us/step - loss: 0.3749 - accuracy: 0.8240\n",
      "Epoch 91/100\n",
      "176/176 [==============================] - 0s 982us/step - loss: 0.3740 - accuracy: 0.8252\n",
      "Epoch 92/100\n",
      "176/176 [==============================] - 0s 888us/step - loss: 0.3745 - accuracy: 0.8245\n",
      "Epoch 93/100\n",
      "176/176 [==============================] - 0s 886us/step - loss: 0.3747 - accuracy: 0.8208\n",
      "Epoch 94/100\n",
      "176/176 [==============================] - 0s 901us/step - loss: 0.3729 - accuracy: 0.8235\n",
      "Epoch 95/100\n",
      "176/176 [==============================] - 0s 896us/step - loss: 0.3730 - accuracy: 0.8226\n",
      "Epoch 96/100\n",
      "176/176 [==============================] - 0s 895us/step - loss: 0.3738 - accuracy: 0.8267\n",
      "Epoch 97/100\n",
      "176/176 [==============================] - 0s 900us/step - loss: 0.3733 - accuracy: 0.8215\n",
      "Epoch 98/100\n",
      "176/176 [==============================] - 0s 1ms/step - loss: 0.3730 - accuracy: 0.8238\n",
      "Epoch 99/100\n",
      "176/176 [==============================] - 0s 880us/step - loss: 0.3722 - accuracy: 0.8240\n",
      "Epoch 100/100\n",
      "176/176 [==============================] - 0s 890us/step - loss: 0.3724 - accuracy: 0.8228\n"
     ]
    },
    {
     "data": {
      "text/plain": [
       "<keras.callbacks.History at 0x1e26c633710>"
      ]
     },
     "execution_count": 42,
     "metadata": {},
     "output_type": "execute_result"
    }
   ],
   "source": [
    "import tensorflow as tf\n",
    "from tensorflow import keras\n",
    "\n",
    "model = keras.Sequential([\n",
    "    keras.layers.Dense(20, kernel_initializer='he_uniform', input_shape=(26,), activation='relu'),\n",
    "    keras.layers.Dense(15, kernel_initializer='he_uniform', activation='relu'),\n",
    "    keras.layers.Dense(1, kernel_initializer='glorot_uniform', activation='sigmoid')\n",
    "])\n",
    "\n",
    "model.compile(\n",
    "    optimizer='adam',\n",
    "    loss='binary_crossentropy',\n",
    "    metrics='accuracy'\n",
    ")\n",
    "\n",
    "model.fit(X_train, Y_train, epochs=100)\n"
   ]
  },
  {
   "cell_type": "code",
   "execution_count": 55,
   "id": "6b711f03",
   "metadata": {},
   "outputs": [
    {
     "name": "stdout",
     "output_type": "stream",
     "text": [
      "Epoch 1/100\n",
      "176/176 [==============================] - 1s 1ms/step - loss: 0.6534 - accuracy: 0.6261\n",
      "Epoch 2/100\n",
      "176/176 [==============================] - 0s 1ms/step - loss: 0.5058 - accuracy: 0.7445\n",
      "Epoch 3/100\n",
      "176/176 [==============================] - 0s 1ms/step - loss: 0.4675 - accuracy: 0.7726\n",
      "Epoch 4/100\n",
      "176/176 [==============================] - 0s 963us/step - loss: 0.4537 - accuracy: 0.7863\n",
      "Epoch 5/100\n",
      "176/176 [==============================] - 0s 963us/step - loss: 0.4496 - accuracy: 0.7895\n",
      "Epoch 6/100\n",
      "176/176 [==============================] - 0s 975us/step - loss: 0.4466 - accuracy: 0.7865\n",
      "Epoch 7/100\n",
      "176/176 [==============================] - 0s 1ms/step - loss: 0.4464 - accuracy: 0.7854\n",
      "Epoch 8/100\n",
      "176/176 [==============================] - 0s 1ms/step - loss: 0.4385 - accuracy: 0.7957\n",
      "Epoch 9/100\n",
      "176/176 [==============================] - 0s 980us/step - loss: 0.4382 - accuracy: 0.7922\n",
      "Epoch 10/100\n",
      "176/176 [==============================] - 0s 975us/step - loss: 0.4376 - accuracy: 0.7956\n",
      "Epoch 11/100\n",
      "176/176 [==============================] - 0s 1ms/step - loss: 0.4321 - accuracy: 0.7966\n",
      "Epoch 12/100\n",
      "176/176 [==============================] - 0s 2ms/step - loss: 0.4366 - accuracy: 0.7984\n",
      "Epoch 13/100\n",
      "176/176 [==============================] - 0s 1ms/step - loss: 0.4322 - accuracy: 0.8012\n",
      "Epoch 14/100\n",
      "176/176 [==============================] - 0s 1ms/step - loss: 0.4314 - accuracy: 0.8012\n",
      "Epoch 15/100\n",
      "176/176 [==============================] - 0s 973us/step - loss: 0.4343 - accuracy: 0.7957\n",
      "Epoch 16/100\n",
      "176/176 [==============================] - 0s 986us/step - loss: 0.4332 - accuracy: 0.8011\n",
      "Epoch 17/100\n",
      "176/176 [==============================] - 0s 969us/step - loss: 0.4297 - accuracy: 0.8039\n",
      "Epoch 18/100\n",
      "176/176 [==============================] - 0s 1ms/step - loss: 0.4261 - accuracy: 0.7996\n",
      "Epoch 19/100\n",
      "176/176 [==============================] - 0s 1ms/step - loss: 0.4286 - accuracy: 0.8005\n",
      "Epoch 20/100\n",
      "176/176 [==============================] - 0s 1ms/step - loss: 0.4294 - accuracy: 0.8002\n",
      "Epoch 21/100\n",
      "176/176 [==============================] - 0s 1ms/step - loss: 0.4227 - accuracy: 0.8069\n",
      "Epoch 22/100\n",
      "176/176 [==============================] - 0s 1ms/step - loss: 0.4190 - accuracy: 0.8043\n",
      "Epoch 23/100\n",
      "176/176 [==============================] - 0s 980us/step - loss: 0.4232 - accuracy: 0.8046\n",
      "Epoch 24/100\n",
      "176/176 [==============================] - 0s 974us/step - loss: 0.4186 - accuracy: 0.8076\n",
      "Epoch 25/100\n",
      "176/176 [==============================] - 0s 963us/step - loss: 0.4267 - accuracy: 0.8016\n",
      "Epoch 26/100\n",
      "176/176 [==============================] - 0s 1ms/step - loss: 0.4236 - accuracy: 0.8068\n",
      "Epoch 27/100\n",
      "176/176 [==============================] - 0s 952us/step - loss: 0.4237 - accuracy: 0.8032\n",
      "Epoch 28/100\n",
      "176/176 [==============================] - 0s 969us/step - loss: 0.4188 - accuracy: 0.8055\n",
      "Epoch 29/100\n",
      "176/176 [==============================] - 0s 975us/step - loss: 0.4256 - accuracy: 0.8020\n",
      "Epoch 30/100\n",
      "176/176 [==============================] - 0s 980us/step - loss: 0.4183 - accuracy: 0.8064\n",
      "Epoch 31/100\n",
      "176/176 [==============================] - 0s 957us/step - loss: 0.4186 - accuracy: 0.8023\n",
      "Epoch 32/100\n",
      "176/176 [==============================] - 0s 1ms/step - loss: 0.4180 - accuracy: 0.8057\n",
      "Epoch 33/100\n",
      "176/176 [==============================] - 0s 980us/step - loss: 0.4157 - accuracy: 0.8055\n",
      "Epoch 34/100\n",
      "176/176 [==============================] - 0s 1ms/step - loss: 0.4189 - accuracy: 0.8091\n",
      "Epoch 35/100\n",
      "176/176 [==============================] - 0s 963us/step - loss: 0.4196 - accuracy: 0.8036\n",
      "Epoch 36/100\n",
      "176/176 [==============================] - 0s 963us/step - loss: 0.4181 - accuracy: 0.8052\n",
      "Epoch 37/100\n",
      "176/176 [==============================] - 0s 957us/step - loss: 0.4191 - accuracy: 0.8068\n",
      "Epoch 38/100\n",
      "176/176 [==============================] - 0s 980us/step - loss: 0.4143 - accuracy: 0.8066\n",
      "Epoch 39/100\n",
      "176/176 [==============================] - 0s 1ms/step - loss: 0.4185 - accuracy: 0.8084\n",
      "Epoch 40/100\n",
      "176/176 [==============================] - 0s 970us/step - loss: 0.4160 - accuracy: 0.8055\n",
      "Epoch 41/100\n",
      "176/176 [==============================] - 0s 980us/step - loss: 0.4122 - accuracy: 0.8066\n",
      "Epoch 42/100\n",
      "176/176 [==============================] - 0s 963us/step - loss: 0.4141 - accuracy: 0.8094\n",
      "Epoch 43/100\n",
      "176/176 [==============================] - 0s 980us/step - loss: 0.4108 - accuracy: 0.8128\n",
      "Epoch 44/100\n",
      "176/176 [==============================] - 0s 969us/step - loss: 0.4131 - accuracy: 0.8066\n",
      "Epoch 45/100\n",
      "176/176 [==============================] - 0s 986us/step - loss: 0.4109 - accuracy: 0.8114\n",
      "Epoch 46/100\n",
      "176/176 [==============================] - 0s 997us/step - loss: 0.4111 - accuracy: 0.8101\n",
      "Epoch 47/100\n",
      "176/176 [==============================] - 0s 957us/step - loss: 0.4124 - accuracy: 0.8123\n",
      "Epoch 48/100\n",
      "176/176 [==============================] - 0s 957us/step - loss: 0.4102 - accuracy: 0.8064\n",
      "Epoch 49/100\n",
      "176/176 [==============================] - 0s 1ms/step - loss: 0.4109 - accuracy: 0.8082\n",
      "Epoch 50/100\n",
      "176/176 [==============================] - 0s 973us/step - loss: 0.4107 - accuracy: 0.8123\n",
      "Epoch 51/100\n",
      "176/176 [==============================] - 0s 980us/step - loss: 0.4105 - accuracy: 0.8114\n",
      "Epoch 52/100\n",
      "176/176 [==============================] - 0s 1ms/step - loss: 0.4078 - accuracy: 0.8110\n",
      "Epoch 53/100\n",
      "176/176 [==============================] - 0s 1ms/step - loss: 0.4042 - accuracy: 0.8108\n",
      "Epoch 54/100\n",
      "176/176 [==============================] - 0s 969us/step - loss: 0.4083 - accuracy: 0.8126\n",
      "Epoch 55/100\n",
      "176/176 [==============================] - 0s 997us/step - loss: 0.4138 - accuracy: 0.8071\n",
      "Epoch 56/100\n",
      "176/176 [==============================] - 0s 957us/step - loss: 0.4059 - accuracy: 0.8151\n",
      "Epoch 57/100\n",
      "176/176 [==============================] - 0s 969us/step - loss: 0.4084 - accuracy: 0.8103\n",
      "Epoch 58/100\n",
      "176/176 [==============================] - 0s 1ms/step - loss: 0.4047 - accuracy: 0.8121\n",
      "Epoch 59/100\n",
      "176/176 [==============================] - 0s 963us/step - loss: 0.4079 - accuracy: 0.8091\n",
      "Epoch 60/100\n",
      "176/176 [==============================] - 0s 969us/step - loss: 0.4083 - accuracy: 0.8107\n",
      "Epoch 61/100\n",
      "176/176 [==============================] - 0s 957us/step - loss: 0.4074 - accuracy: 0.8108\n",
      "Epoch 62/100\n",
      "176/176 [==============================] - 0s 969us/step - loss: 0.4082 - accuracy: 0.8114\n",
      "Epoch 63/100\n",
      "176/176 [==============================] - 0s 968us/step - loss: 0.4092 - accuracy: 0.8096\n",
      "Epoch 64/100\n",
      "176/176 [==============================] - 0s 967us/step - loss: 0.4081 - accuracy: 0.8110\n",
      "Epoch 65/100\n",
      "176/176 [==============================] - 0s 1ms/step - loss: 0.4048 - accuracy: 0.8156\n",
      "Epoch 66/100\n",
      "176/176 [==============================] - 0s 960us/step - loss: 0.4052 - accuracy: 0.8139\n",
      "Epoch 67/100\n",
      "176/176 [==============================] - 0s 975us/step - loss: 0.4069 - accuracy: 0.8105\n",
      "Epoch 68/100\n",
      "176/176 [==============================] - 0s 941us/step - loss: 0.4077 - accuracy: 0.8123\n",
      "Epoch 69/100\n",
      "176/176 [==============================] - 0s 958us/step - loss: 0.4050 - accuracy: 0.8123\n",
      "Epoch 70/100\n",
      "176/176 [==============================] - 0s 968us/step - loss: 0.4073 - accuracy: 0.8137\n",
      "Epoch 71/100\n",
      "176/176 [==============================] - 0s 1ms/step - loss: 0.4045 - accuracy: 0.8169\n",
      "Epoch 72/100\n",
      "176/176 [==============================] - 0s 942us/step - loss: 0.4041 - accuracy: 0.8137\n",
      "Epoch 73/100\n",
      "176/176 [==============================] - 0s 937us/step - loss: 0.4030 - accuracy: 0.8165\n",
      "Epoch 74/100\n",
      "176/176 [==============================] - 0s 926us/step - loss: 0.4055 - accuracy: 0.8124\n",
      "Epoch 75/100\n",
      "176/176 [==============================] - 0s 1ms/step - loss: 0.4057 - accuracy: 0.8126\n",
      "Epoch 76/100\n",
      "176/176 [==============================] - 0s 969us/step - loss: 0.4019 - accuracy: 0.8178\n",
      "Epoch 77/100\n",
      "176/176 [==============================] - 0s 971us/step - loss: 0.4036 - accuracy: 0.8148\n",
      "Epoch 78/100\n",
      "176/176 [==============================] - 0s 1ms/step - loss: 0.4018 - accuracy: 0.8124\n",
      "Epoch 79/100\n",
      "176/176 [==============================] - 0s 1ms/step - loss: 0.4059 - accuracy: 0.8137\n",
      "Epoch 80/100\n",
      "176/176 [==============================] - 0s 1ms/step - loss: 0.4033 - accuracy: 0.8126\n",
      "Epoch 81/100\n",
      "176/176 [==============================] - 0s 1ms/step - loss: 0.4049 - accuracy: 0.8119\n",
      "Epoch 82/100\n",
      "176/176 [==============================] - 0s 971us/step - loss: 0.3994 - accuracy: 0.8158\n",
      "Epoch 83/100\n",
      "176/176 [==============================] - 0s 969us/step - loss: 0.4042 - accuracy: 0.8124\n",
      "Epoch 84/100\n",
      "176/176 [==============================] - 0s 1ms/step - loss: 0.4022 - accuracy: 0.8139\n",
      "Epoch 85/100\n",
      "176/176 [==============================] - 0s 1ms/step - loss: 0.4069 - accuracy: 0.8091\n",
      "Epoch 86/100\n",
      "176/176 [==============================] - 0s 1ms/step - loss: 0.3998 - accuracy: 0.8215\n",
      "Epoch 87/100\n",
      "176/176 [==============================] - 0s 1ms/step - loss: 0.3990 - accuracy: 0.8137\n",
      "Epoch 88/100\n",
      "176/176 [==============================] - 0s 1ms/step - loss: 0.4002 - accuracy: 0.8116\n",
      "Epoch 89/100\n",
      "176/176 [==============================] - 0s 969us/step - loss: 0.4060 - accuracy: 0.8130\n",
      "Epoch 90/100\n",
      "176/176 [==============================] - 0s 1ms/step - loss: 0.4032 - accuracy: 0.8164\n",
      "Epoch 91/100\n",
      "176/176 [==============================] - 0s 963us/step - loss: 0.4012 - accuracy: 0.8178\n",
      "Epoch 92/100\n",
      "176/176 [==============================] - 0s 959us/step - loss: 0.4024 - accuracy: 0.8135\n",
      "Epoch 93/100\n",
      "176/176 [==============================] - 0s 952us/step - loss: 0.4022 - accuracy: 0.8187\n",
      "Epoch 94/100\n",
      "176/176 [==============================] - 0s 958us/step - loss: 0.4018 - accuracy: 0.8146\n",
      "Epoch 95/100\n",
      "176/176 [==============================] - 0s 980us/step - loss: 0.4050 - accuracy: 0.8187\n",
      "Epoch 96/100\n",
      "176/176 [==============================] - 0s 1ms/step - loss: 0.4004 - accuracy: 0.8190\n",
      "Epoch 97/100\n",
      "176/176 [==============================] - 0s 974us/step - loss: 0.4019 - accuracy: 0.8164\n",
      "Epoch 98/100\n",
      "176/176 [==============================] - 0s 964us/step - loss: 0.3992 - accuracy: 0.8140\n",
      "Epoch 99/100\n",
      "176/176 [==============================] - 0s 970us/step - loss: 0.4032 - accuracy: 0.8160\n",
      "Epoch 100/100\n",
      "176/176 [==============================] - 0s 975us/step - loss: 0.4042 - accuracy: 0.8105\n"
     ]
    },
    {
     "data": {
      "text/plain": [
       "<keras.callbacks.History at 0x1e2708fad50>"
      ]
     },
     "execution_count": 55,
     "metadata": {},
     "output_type": "execute_result"
    }
   ],
   "source": [
    "import tensorflow as tf\n",
    "from tensorflow import keras\n",
    "\n",
    "model = keras.Sequential([\n",
    "    keras.layers.Dense(20, input_shape=(26,), activation = 'relu'),\n",
    "    keras.layers.Dropout(0.3),\n",
    "    keras.layers.Dense(15, activation='relu'),\n",
    "    keras.layers.Dropout(0.2),\n",
    "    keras.layers.Dense(1, activation = 'sigmoid')\n",
    "])\n",
    "\n",
    "model.compile(\n",
    "    optimizer = 'adam',\n",
    "    loss = 'binary_crossentropy',\n",
    "    metrics = 'accuracy'\n",
    ")\n",
    "model.fit(X_train, Y_train, epochs = 100)"
   ]
  },
  {
   "cell_type": "code",
   "execution_count": 45,
   "id": "b4c10539",
   "metadata": {},
   "outputs": [
    {
     "name": "stdout",
     "output_type": "stream",
     "text": [
      "Model: \"sequential_3\"\n",
      "_________________________________________________________________\n",
      " Layer (type)                Output Shape              Param #   \n",
      "=================================================================\n",
      " dense_9 (Dense)             (None, 20)                540       \n",
      "                                                                 \n",
      " dropout_4 (Dropout)         (None, 20)                0         \n",
      "                                                                 \n",
      " dense_10 (Dense)            (None, 15)                315       \n",
      "                                                                 \n",
      " dropout_5 (Dropout)         (None, 15)                0         \n",
      "                                                                 \n",
      " dense_11 (Dense)            (None, 1)                 16        \n",
      "                                                                 \n",
      "=================================================================\n",
      "Total params: 871\n",
      "Trainable params: 871\n",
      "Non-trainable params: 0\n",
      "_________________________________________________________________\n"
     ]
    }
   ],
   "source": [
    "model.summary()"
   ]
  },
  {
   "cell_type": "code",
   "execution_count": 46,
   "id": "f57bec28",
   "metadata": {},
   "outputs": [],
   "source": [
    "# print(model.history.keys())"
   ]
  },
  {
   "cell_type": "code",
   "execution_count": 47,
   "id": "0a5d383f",
   "metadata": {},
   "outputs": [
    {
     "name": "stdout",
     "output_type": "stream",
     "text": [
      "44/44 [==============================] - 0s 1ms/step - loss: 0.4119 - accuracy: 0.8117\n"
     ]
    },
    {
     "data": {
      "text/plain": [
       "[0.41190463304519653, 0.8116559982299805]"
      ]
     },
     "execution_count": 47,
     "metadata": {},
     "output_type": "execute_result"
    }
   ],
   "source": [
    "model.evaluate(X_test, Y_test)"
   ]
  },
  {
   "cell_type": "code",
   "execution_count": 48,
   "id": "8d4bcde5",
   "metadata": {},
   "outputs": [
    {
     "name": "stdout",
     "output_type": "stream",
     "text": [
      "44/44 [==============================] - 0s 742us/step\n"
     ]
    },
    {
     "data": {
      "text/plain": [
       "array([[0.0110664 ],\n",
       "       [0.6451856 ],\n",
       "       [0.39327282],\n",
       "       [0.50049466],\n",
       "       [0.3553611 ]], dtype=float32)"
      ]
     },
     "execution_count": 48,
     "metadata": {},
     "output_type": "execute_result"
    }
   ],
   "source": [
    "yp = model.predict(X_test)\n",
    "yp[:5]"
   ]
  },
  {
   "cell_type": "code",
   "execution_count": 49,
   "id": "6360c970",
   "metadata": {},
   "outputs": [],
   "source": [
    "y_pred=[]\n",
    "for i in yp:\n",
    "    if i>0.5:\n",
    "        y_pred.append(1)\n",
    "    else:\n",
    "        y_pred.append(0)"
   ]
  },
  {
   "cell_type": "code",
   "execution_count": 50,
   "id": "d6e09060",
   "metadata": {},
   "outputs": [
    {
     "data": {
      "text/plain": [
       "[0, 1, 0, 1, 0, 0, 0, 0, 1, 0]"
      ]
     },
     "execution_count": 50,
     "metadata": {},
     "output_type": "execute_result"
    }
   ],
   "source": [
    "y_pred[:10]"
   ]
  },
  {
   "cell_type": "code",
   "execution_count": 51,
   "id": "f4fd1d5e",
   "metadata": {},
   "outputs": [
    {
     "data": {
      "text/plain": [
       "5580    0\n",
       "3438    1\n",
       "2175    1\n",
       "4237    1\n",
       "511     0\n",
       "6769    0\n",
       "5597    1\n",
       "3468    0\n",
       "4482    1\n",
       "661     0\n",
       "Name: Churn, dtype: int64"
      ]
     },
     "execution_count": 51,
     "metadata": {},
     "output_type": "execute_result"
    }
   ],
   "source": [
    "Y_test[:10]"
   ]
  },
  {
   "cell_type": "code",
   "execution_count": 52,
   "id": "d881fb19",
   "metadata": {},
   "outputs": [
    {
     "name": "stdout",
     "output_type": "stream",
     "text": [
      "              precision    recall  f1-score   support\n",
      "\n",
      "           0       0.84      0.93      0.88      1051\n",
      "           1       0.69      0.46      0.55       356\n",
      "\n",
      "    accuracy                           0.81      1407\n",
      "   macro avg       0.76      0.69      0.72      1407\n",
      "weighted avg       0.80      0.81      0.80      1407\n",
      "\n"
     ]
    }
   ],
   "source": [
    "# classification report\n",
    "from sklearn.metrics import confusion_matrix, classification_report\n",
    "print(classification_report(Y_test, y_pred))"
   ]
  },
  {
   "cell_type": "code",
   "execution_count": 53,
   "id": "1034951c",
   "metadata": {},
   "outputs": [
    {
     "data": {
      "text/plain": [
       "Text(45.722222222222214, 0.5, 'Truth')"
      ]
     },
     "execution_count": 53,
     "metadata": {},
     "output_type": "execute_result"
    },
    {
     "data": {
      "image/png": "[encoded data removed]",
      "text/plain": [
       "<Figure size 600x600 with 2 Axes>"
      ]
     },
     "metadata": {},
     "output_type": "display_data"
    }
   ],
   "source": [
    "import seaborn as sns\n",
    "cm = tf.math.confusion_matrix(labels=Y_test, predictions=y_pred)\n",
    "\n",
    "plt.figure(figsize=(6,6))\n",
    "sns.heatmap(cm, annot = True, fmt = 'd')\n",
    "plt.xlabel('Predicted')\n",
    "plt.ylabel('Truth')"
   ]
  },
  {
   "cell_type": "code",
   "execution_count": 54,
   "id": "558150fd",
   "metadata": {},
   "outputs": [
    {
     "name": "stdout",
     "output_type": "stream",
     "text": [
      "0\n"
     ]
    }
   ],
   "source": [
    "# just a cp problem\n",
    "input_str = input(\"Enter array elements separated by commas: \")\n",
    "a = input_str.split(\",\")\n",
    "a.sort()\n",
    "n=len(a)\n",
    "c=0\n",
    "for i in reversed(a):\n",
    "    for j in a:\n",
    "        if i>j:\n",
    "            c=c+1\n",
    "print(c)"
   ]
  },
  {
   "cell_type": "code",
   "execution_count": null,
   "id": "ecd0dc2f",
   "metadata": {},
   "outputs": [],
   "source": []
  }
 ],
 "metadata": {
  "kernelspec": {
   "display_name": "venv",
   "language": "python",
   "name": "python3"
  },
  "language_info": {
   "codemirror_mode": {
    "name": "ipython",
    "version": 3
   },
   "file_extension": ".py",
   "mimetype": "text/x-python",
   "name": "python",
   "nbconvert_exporter": "python",
   "pygments_lexer": "ipython3",
   "version": "3.11.2"
  }
 },
 "nbformat": 4,
 "nbformat_minor": 5
}
